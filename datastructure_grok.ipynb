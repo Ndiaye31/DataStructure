{
 "cells": [
  {
   "cell_type": "code",
   "execution_count": 92,
   "id": "fde8ae8d-31de-412e-a689-6e6525b928df",
   "metadata": {},
   "outputs": [],
   "source": [
    "commandes = [\n",
    "    ('2024-01', 4, 1049),\n",
    "    ('2024-01', 2, 175),\n",
    "    ('2024-02', 4, 75),\n",
    "    ('2024-02', 2, -70),  # Erreur : montant négatif\n",
    "    ('2024-03', 4, 350),\n",
    "    ('2024-03', 2, 1599),\n",
    "    ('2024-03', 1, 1074),\n",
    "    ('2024-04', 4, 315)\n",
    "]"
   ]
  },
  {
   "cell_type": "code",
   "execution_count": 93,
   "id": "48a4808e-5eea-43c2-9ce9-a48a5086b4a2",
   "metadata": {},
   "outputs": [],
   "source": [
    "commandes=[order for order in commandes if order[2]>0 and order[1]>0]"
   ]
  },
  {
   "cell_type": "code",
   "execution_count": 94,
   "id": "b1d24e4c",
   "metadata": {},
   "outputs": [],
   "source": [
    "from collections import defaultdict\n",
    "\n",
    "stat_montant=defaultdict(lambda: {'commandes': 0, 'quantity': 0, 'montant': 0})\n",
    "\n",
    "for date,quantite,montant in commandes:\n",
    "    stat_montant[date]['commandes']+=1\n",
    "    stat_montant[date]['quantity']+=quantite\n",
    "    stat_montant[date]['montant']+=montant\n"
   ]
  },
  {
   "cell_type": "code",
   "execution_count": 96,
   "id": "f0d34fff",
   "metadata": {},
   "outputs": [],
   "source": [
    "resultat = [(mois, stats['commandes'],stats['quantity'],stats['montant']) for mois, stats in stat_montant.items()]\n",
    "resultat = sorted(resultat, key=lambda x: x[3],reverse=True)"
   ]
  },
  {
   "cell_type": "code",
   "execution_count": 75,
   "id": "a2cde537",
   "metadata": {},
   "outputs": [
    {
     "data": {
      "text/plain": [
       "[('2024-03', 3, 7, 3023),\n",
       " ('2024-01', 2, 6, 1224),\n",
       " ('2024-04', 1, 4, 315),\n",
       " ('2024-02', 1, 4, 75)]"
      ]
     },
     "execution_count": 75,
     "metadata": {},
     "output_type": "execute_result"
    }
   ],
   "source": [
    "resultat"
   ]
  },
  {
   "cell_type": "code",
   "execution_count": null,
   "id": "48db7043",
   "metadata": {},
   "outputs": [
    {
     "name": "stdout",
     "output_type": "stream",
     "text": [
      "Commande totale : 21 unités\n",
      "Résultat par date : [('2024-01', 1224, 204.0), ('2024-02', 75, 18.75), ('2024-03', 3023, 431.86), ('2024-04', 315, 78.75)]\n"
     ]
    }
   ],
   "source": [
    "\n",
    "import re\n",
    "\n",
    "def analyser_commandes(commandes):\n",
    "    # Validation du format de date\n",
    "    def is_valid_date(date):\n",
    "        return bool(re.match(r'^\\d{4}-\\d{2}$', date))\n",
    "\n",
    "    # Nettoyage\n",
    "    commandes = [order for order in commandes if order[2] > 0 and order[1] > 0 and is_valid_date(order[0])]\n",
    "\n",
    "    # Commande totale\n",
    "    commande_totale = sum(quantite for _, quantite, _ in commandes)\n",
    "\n",
    "    # Agrégation\n",
    "    stat_montant = defaultdict(lambda: {'commandes': 0, 'total_quantite': 0, 'total_montant': 0})\n",
    "    for date, quantite, montant in commandes:\n",
    "        stat_montant[date]['commandes'] += 1\n",
    "        stat_montant[date]['total_quantite'] += quantite\n",
    "        stat_montant[date]['total_montant'] += montant\n",
    "    \n",
    "    # Formatage\n",
    "    res = [\n",
    "        (date, stat['total_montant'], round(stat['total_montant'] / stat['total_quantite'], 2) if stat['total_quantite'] > 0 else 0)\n",
    "        for date, stat in stat_montant.items()\n",
    "    ]\n",
    "    res = sorted(res, key=lambda x: x[0])  # Tri par mois\n",
    "\n",
    "    return commande_totale, res\n",
    "\n",
    "\n",
    "total, resultat = analyser_commandes(commandes)\n",
    "print(f\"Commande totale : {total} unités\")\n",
    "print(\"Résultat par date :\", resultat)"
   ]
  },
  {
   "cell_type": "code",
   "execution_count": 28,
   "id": "442bbcc3",
   "metadata": {},
   "outputs": [],
   "source": [
    "# Dataset e-commerce complet\n",
    "ecommerce_data = [\n",
    "    {\n",
    "        \"user_id\": \"U001\", \"name\": \"Alice\", \"age\": 25, \"city\": \"Paris\",\n",
    "        \"orders\": [\n",
    "            {\"order_id\": \"O1\", \"date\": \"2024-01\", \"items\": [(\"laptop\", 999, 1), (\"mouse\", 25, 2)], \"status\": \"delivered\"},\n",
    "            {\"order_id\": \"O2\", \"date\": \"2024-02\", \"items\": [(\"keyboard\", 75, 1)], \"status\": \"pending\"},\n",
    "            {\"order_id\": \"O3\", \"date\": \"2024-03\", \"items\": [(\"monitor\", 300, 1), (\"webcam\", 50, 1)], \"status\": \"delivered\"}\n",
    "        ]\n",
    "    },\n",
    "    {\n",
    "        \"user_id\": \"U002\", \"name\": \"Bob\", \"age\": 35, \"city\": \"Lyon\", \n",
    "        \"orders\": [\n",
    "            {\"order_id\": \"O4\", \"date\": \"2024-01\", \"items\": [(\"laptop\", 999, 1)], \"status\": \"delivered\"},\n",
    "            {\"order_id\": \"O5\", \"date\": \"2024-02\", \"items\": [(\"mouse\", 25, 1), (\"pad\", 15, 3)], \"status\": \"delivered\"}\n",
    "        ]\n",
    "    },\n",
    "    {\n",
    "        \"user_id\": \"U003\", \"name\": \"Charlie\", \"age\": 28, \"city\": \"Paris\",\n",
    "        \"orders\": [\n",
    "            {\"order_id\": \"O6\", \"date\": \"2024-01\", \"items\": [(\"keyboard\", 75, 2), (\"mouse\", 25, 1)], \"status\": \"cancelled\"},\n",
    "            {\"order_id\": \"O7\", \"date\": \"2024-03\", \"items\": [(\"laptop\", 999, 1), (\"monitor\", 300, 2)], \"status\": \"delivered\"}\n",
    "        ]\n",
    "    }\n",
    "]\n"
   ]
  },
  {
   "cell_type": "code",
   "execution_count": 87,
   "id": "82d0e794",
   "metadata": {},
   "outputs": [],
   "source": [
    "\n",
    "# Dataset réseau social\n",
    "social_network = [\n",
    "    {\"user\": \"Alice\", \"posts\": [{\"content\": \"Hello world\", \"likes\": 15, \"tags\": [\"tech\", \"python\"]}, \n",
    "                                {\"content\": \"Data science rocks\", \"likes\": 23, \"tags\": [\"data\", \"ml\"]}],\n",
    "     \"following\": [\"Bob\", \"Diana\"], \"followers\": [\"Bob\", \"Charlie\", \"Eve\"]},\n",
    "    {\"user\": \"Bob\", \"posts\": [{\"content\": \"Morning coffee\", \"likes\": 8, \"tags\": [\"life\"]},\n",
    "                              {\"content\": \"Python tutorial\", \"likes\": 45, \"tags\": [\"tech\", \"python\", \"tutorial\"]}],\n",
    "     \"following\": [\"Alice\", \"Charlie\"], \"followers\": [\"Alice\", \"Frank\"]},\n",
    "    {\"user\": \"Charlie\", \"posts\": [{\"content\": \"Weekend vibes\", \"likes\": 12, \"tags\": [\"life\", \"weekend\"]}],\n",
    "     \"following\": [\"Alice\"], \"followers\": [\"Alice\", \"Bob\"]}\n",
    "]"
   ]
  },
  {
   "cell_type": "markdown",
   "id": "4f8731be",
   "metadata": {},
   "source": [
    "Produis une liste de tuples [(city, total_orders, total_revenue)]"
   ]
  },
  {
   "cell_type": "code",
   "execution_count": null,
   "id": "05cc779b",
   "metadata": {},
   "outputs": [],
   "source": [
    "order_delivered=[(user['city'],sum(prix * quantite for item, prix, quantite in order[\"items\"])) for user in ecommerce_data\n",
    "                 for order in user['orders']\n",
    "                 if order['status']==\"delivered\"\n",
    "                 ]"
   ]
  },
  {
   "cell_type": "code",
   "execution_count": 27,
   "id": "8ec303ab",
   "metadata": {},
   "outputs": [
    {
     "data": {
      "text/plain": [
       "[('Paris', 1049), ('Paris', 350), ('Lyon', 999), ('Lyon', 70), ('Paris', 1599)]"
      ]
     },
     "execution_count": 27,
     "metadata": {},
     "output_type": "execute_result"
    }
   ],
   "source": [
    "order_delivered"
   ]
  },
  {
   "cell_type": "code",
   "execution_count": 28,
   "id": "956c07ee",
   "metadata": {},
   "outputs": [
    {
     "data": {
      "text/plain": [
       "[('Paris', 3, 2998), ('Lyon', 2, 1069)]"
      ]
     },
     "execution_count": 28,
     "metadata": {},
     "output_type": "execute_result"
    }
   ],
   "source": [
    "from collections import defaultdict\n",
    "\n",
    "stat_ville=defaultdict(lambda: {'total_orders': 0, 'total_revenue': 0})\n",
    "\n",
    "for ville,montant in order_delivered:\n",
    "    stat_ville[ville]['total_orders']+=1\n",
    "    stat_ville[ville]['total_revenue']+=montant\n",
    "\n",
    "\n",
    "res=[(ville,stat['total_orders'],stat['total_revenue']) for ville,stat in stat_ville.items()]\n",
    "\n",
    "res"
   ]
  },
  {
   "cell_type": "code",
   "execution_count": 30,
   "id": "afa673af",
   "metadata": {},
   "outputs": [
    {
     "name": "stdout",
     "output_type": "stream",
     "text": [
      "Nombre total de commandes : 5\n",
      "Résultat par ville : [('Paris', 3, 2998), ('Lyon', 2, 1069)]\n"
     ]
    }
   ],
   "source": [
    "import re\n",
    "from collections import defaultdict\n",
    "\n",
    "# Validation des données\n",
    "def is_valid_item(item, prix, quantite):\n",
    "    return isinstance(prix, (int, float)) and isinstance(quantite, int) and prix > 0 and quantite > 0\n",
    "\n",
    "# Extraction avec validation\n",
    "order_delivered = [\n",
    "    (user['city'], sum(prix * quantite for item, prix, quantite in order[\"items\"] if is_valid_item(item, prix, quantite)))\n",
    "    for user in ecommerce_data \n",
    "    for order in user['orders'] \n",
    "    if order['status'] == 'delivered' and user.get('city') and all(is_valid_item(item, prix, quantite) for item, prix, quantite in order['items'])\n",
    "]\n",
    "\n",
    "# Calcul du total des commandes\n",
    "total_commandes = len(order_delivered)\n",
    "\n",
    "# Agrégation\n",
    "stat_villes = defaultdict(lambda: {'total_orders': 0, 'total_revenue': 0})\n",
    "for ville, montant in order_delivered:\n",
    "    stat_villes[ville]['total_orders'] += 1\n",
    "    stat_villes[ville]['total_revenue'] += montant\n",
    "\n",
    "# Formatage et tri\n",
    "res = [(ville, stat['total_orders'], stat['total_revenue']) for ville, stat in stat_villes.items()]\n",
    "res = sorted(res, key=lambda x: x[2], reverse=True)\n",
    "\n",
    "# Affichage\n",
    "print(f\"Nombre total de commandes : {total_commandes}\")\n",
    "print(\"Résultat par ville :\", res)"
   ]
  },
  {
   "cell_type": "markdown",
   "id": "79cadd6b",
   "metadata": {},
   "source": [
    "### **Ex 1.1 - Triple Nested (★★★☆☆)**"
   ]
  },
  {
   "cell_type": "code",
   "execution_count": 2,
   "id": "fc06ef26",
   "metadata": {},
   "outputs": [],
   "source": [
    "# Extrayez tous les produits achetés par des utilisateurs parisiens avec quantité > 1, format: `[(\"Alice\", \"mouse\", 2), ...]`"
   ]
  },
  {
   "cell_type": "code",
   "execution_count": 29,
   "id": "56d08e22",
   "metadata": {},
   "outputs": [],
   "source": [
    "cust_items=[(user['name'],item,quantity) for user in ecommerce_data\n",
    "                for order in user['orders']\n",
    "                for item,_,quantity in order['items']\n",
    "                if (user['city']==\"Paris\") and (quantity>1) and (order['status']==\"delivered\")\n",
    "            ]"
   ]
  },
  {
   "cell_type": "code",
   "execution_count": 30,
   "id": "e38581b3",
   "metadata": {},
   "outputs": [
    {
     "data": {
      "text/plain": [
       "[('Alice', 'mouse', 2), ('Charlie', 'monitor', 2)]"
      ]
     },
     "execution_count": 30,
     "metadata": {},
     "output_type": "execute_result"
    }
   ],
   "source": [
    "cust_items\n"
   ]
  },
  {
   "cell_type": "markdown",
   "id": "ce3b79ca",
   "metadata": {},
   "source": [
    "### **Ex 1.2 - Conditional Logic (★★★★☆)**"
   ]
  },
  {
   "cell_type": "code",
   "execution_count": 16,
   "id": "4bfa1d72",
   "metadata": {},
   "outputs": [],
   "source": [
    "# Calculez le \"score de fidélité\" par utilisateur: `nombre_commandes * 10 + total_dépensé * 0.1`, \\\n",
    "# mais seulement pour les utilisateurs avec au moins 2 commandes livrées."
   ]
  },
  {
   "cell_type": "code",
   "execution_count": 32,
   "id": "c467bf94",
   "metadata": {},
   "outputs": [
    {
     "name": "stdout",
     "output_type": "stream",
     "text": [
      "[('Alice', 159.9), ('Bob', 126.9)]\n"
     ]
    }
   ],
   "source": [
    "from collections import defaultdict\n",
    "\n",
    "# Extraction des commandes livrées\n",
    "delivered_orders = [\n",
    "    (user['name'], sum(prix * quantity for _, prix, quantity in order['items'] if prix > 0 and quantity > 0))\n",
    "    for user in ecommerce_data\n",
    "    for order in user['orders']\n",
    "    if order['status'] == 'delivered'\n",
    "]\n",
    "\n",
    "# Agrégation\n",
    "score_fidelite = defaultdict(lambda: {'commandes': 0, 'total_depense': 0})\n",
    "for name, montant in delivered_orders:\n",
    "    score_fidelite[name]['commandes'] += 1\n",
    "    score_fidelite[name]['total_depense'] += montant\n",
    "\n",
    "# Calcul du score et filtrage\n",
    "res = [\n",
    "    (name, stats['commandes'] * 10 + stats['total_depense'] * 0.1)\n",
    "    for name, stats in score_fidelite.items()\n",
    "    if stats['commandes'] >= 2\n",
    "]\n",
    "res = sorted(res, key=lambda x: x[1], reverse=True)\n",
    "\n",
    "print(res)"
   ]
  }
 ],
 "metadata": {
  "kernelspec": {
   "display_name": ".venv",
   "language": "python",
   "name": "python3"
  },
  "language_info": {
   "codemirror_mode": {
    "name": "ipython",
    "version": 3
   },
   "file_extension": ".py",
   "mimetype": "text/x-python",
   "name": "python",
   "nbconvert_exporter": "python",
   "pygments_lexer": "ipython3",
   "version": "3.13.3"
  }
 },
 "nbformat": 4,
 "nbformat_minor": 5
}
