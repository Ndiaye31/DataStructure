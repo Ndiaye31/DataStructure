{
 "cells": [
  {
   "cell_type": "code",
   "execution_count": 2,
   "id": "fde8ae8d-31de-412e-a689-6e6525b928df",
   "metadata": {},
   "outputs": [],
   "source": [
    "commandes = [\n",
    "    ('2024-01', 4, 1049),\n",
    "    ('2024-01', 2, 175),\n",
    "    ('2024-02', 4, 75),\n",
    "    ('2024-02', 2, -70),  # Erreur : montant négatif\n",
    "    ('2024-03', 4, 350),\n",
    "    ('2024-03', 2, 1599),\n",
    "    ('2024-03', 1, 1074),\n",
    "    ('2024-04', 4, 315)\n",
    "]"
   ]
  },
  {
   "cell_type": "code",
   "execution_count": null,
   "id": "48a4808e-5eea-43c2-9ce9-a48a5086b4a2",
   "metadata": {},
   "outputs": [],
   "source": [
    "commandes"
   ]
  }
 ],
 "metadata": {
  "kernelspec": {
   "display_name": "Python 3 (ipykernel)",
   "language": "python",
   "name": "python3"
  },
  "language_info": {
   "codemirror_mode": {
    "name": "ipython",
    "version": 3
   },
   "file_extension": ".py",
   "mimetype": "text/x-python",
   "name": "python",
   "nbconvert_exporter": "python",
   "pygments_lexer": "ipython3",
   "version": "3.13.3"
  }
 },
 "nbformat": 4,
 "nbformat_minor": 5
}
