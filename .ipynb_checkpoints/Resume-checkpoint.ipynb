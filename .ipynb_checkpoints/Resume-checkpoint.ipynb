{
 "cells": [
  {
   "cell_type": "code",
   "execution_count": 1,
   "id": "25be4631-27c7-486f-b68f-66fa827c1f91",
   "metadata": {},
   "outputs": [
    {
     "name": "stdout",
     "output_type": "stream",
     "text": [
      "Mot modifié : OnE WoRlD\n"
     ]
    }
   ],
   "source": [
    "mot = \"one world\"  # Exemple\n",
    "\n",
    "lettre = []\n",
    "for l in mot:\n",
    "    lettre.append(l)\n",
    "\n",
    "\n",
    "lettre_maj = []\n",
    "for i in range(len(lettre)):\n",
    "    if i % 2 == 0:\n",
    "        lettre_maj.append(lettre[i].upper())\n",
    "    else:\n",
    "        lettre_maj.append(lettre[i].lower())\n",
    "\n",
    "\n",
    "mot_modifie = \"\".join(lettre_maj)\n",
    "print(\"Mot modifié :\", mot_modifie)\n"
   ]
  },
  {
   "cell_type": "raw",
   "id": "9dd39f53-90ab-4d72-8365-9a656a1980e7",
   "metadata": {},
   "source": [
    "Listes"
   ]
  },
  {
   "cell_type": "markdown",
   "id": "6199f8be-78ea-4c0d-84a2-97ccf6b327e1",
   "metadata": {},
   "source": [
    "Explication :\n",
    "\n",
    "Les listes en Python sont des collections ordonnées et modifiables qui permettent de stocker une séquence d’éléments (nombres, chaînes, etc.). \n",
    "\n",
    "Dans l’analyse de données, elles sont idéales pour :\n",
    "\n",
    "Stocker des séries de données (ex. : températures, ventes).\n",
    "\n",
    "Filtrer ou trier des données.\n",
    "\n",
    "Effectuer des transformations (ex. : calculs sur chaque élément).\n",
    "\n",
    "Bonnes pratiques :\n",
    "\n",
    "Utilise des list comprehensions (comme ci-dessus) pour des transformations claires et concises.\n",
    "\n",
    "Évite les boucles inutiles si une méthode intégrée (comme sum() ou sorted()) existe.\n",
    "\n",
    "Vérifie la taille de la liste avec len() avant d’accéder à des indices pour éviter les erreurs.\n"
   ]
  },
  {
   "cell_type": "code",
   "execution_count": 10,
   "id": "45431a8b-46e8-42d2-b5d8-64b02c820ebb",
   "metadata": {},
   "outputs": [
    {
     "name": "stdout",
     "output_type": "stream",
     "text": [
      "Après ajout : [150, 200, 120, 300, 180, 250]\n",
      "Ventes > 150 : [200, 300, 180, 250]\n",
      "Moyenne des ventes : 200.0\n"
     ]
    }
   ],
   "source": [
    "# Liste de ventes journalières (en euros)\n",
    "ventes = [150, 200, 120, 300, 180]\n",
    "\n",
    "# Ajouter une vente\n",
    "ventes.append(250)\n",
    "print(\"Après ajout :\", ventes)  # [150, 200, 120, 300, 180, 250]\n",
    "\n",
    "# Filtrer les ventes supérieures à 150\n",
    "ventes_hautes = [vente for vente in ventes if vente > 150]\n",
    "print(\"Ventes > 150 :\", ventes_hautes)  # [200, 300, 250]\n",
    "\n",
    "# Calculer la moyenne des ventes\n",
    "moyenne = sum(ventes) / len(ventes)\n",
    "print(\"Moyenne des ventes :\", moyenne)  # 200.5"
   ]
  },
  {
   "cell_type": "raw",
   "id": "016b5212-4d71-493a-90e1-6bc653687753",
   "metadata": {},
   "source": [
    "dictionnaires"
   ]
  },
  {
   "cell_type": "markdown",
   "id": "b68ed47d-625f-473f-b92c-ecb7e7424142",
   "metadata": {},
   "source": [
    "Explication :\n",
    "\n",
    "Les dictionnaires associent des clés à des valeurs, parfaits pour :\n",
    "\n",
    "Compter des occurrences (ex. : fréquence des mots).\n",
    "\n",
    "Regrouper des données (ex. : ventes par région).\n",
    "\n",
    "Accéder rapidement à des informations via des clés.\n",
    "\n",
    "Bonnes pratiques : \n",
    "Utilise dict.get(cle, default) pour éviter les erreurs si une clé n’existe pas.\n",
    "\n",
    "Préfère un dictionnaire à une liste de paires clé-valeur pour des recherches rapides.\n",
    "\n",
    "Structure bien tes clés (ex. : chaînes pour les catégories, tuples pour des clés composées)."
   ]
  },
  {
   "cell_type": "code",
   "execution_count": 5,
   "id": "6411a5d7-aaa7-4914-9620-ae8cd42341b5",
   "metadata": {},
   "outputs": [
    {
     "name": "stdout",
     "output_type": "stream",
     "text": [
      "Totaux : {'Alice': 300, 'Bob': 50, 'Charlie': 150}\n",
      "Après ajout : {'Alice': 300, 'Bob': 125, 'Charlie': 150}\n",
      "Client max : Alice avec 300\n"
     ]
    }
   ],
   "source": [
    "transactions = [('Alice', 100), ('Bob', 50), ('Alice', 200), ('Charlie', 150)]\n",
    "totals = {}\n",
    "\n",
    "# 1. Totaliser par client\n",
    "for client, montant in transactions:\n",
    "    totals[client] = totals.get(client, 0) + montant\n",
    "print(\"Totaux :\", totals)\n",
    "\n",
    "# 2. Ajouter une transaction\n",
    "totals['Bob'] = totals.get('Bob', 0) + 75\n",
    "print(\"Après ajout :\", totals)\n",
    "\n",
    "# 3. Client avec max\n",
    "max_client = max(totals, key=totals.get)\n",
    "print(\"Client max :\", max_client, \"avec\", totals[max_client])"
   ]
  },
  {
   "cell_type": "raw",
   "id": "069e85cf-a4ec-45fc-966f-ca8b823b3dae",
   "metadata": {},
   "source": [
    "set"
   ]
  },
  {
   "cell_type": "code",
   "execution_count": 7,
   "id": "1cdd938d-d5d2-4dbd-b6f1-52d8a45be44e",
   "metadata": {},
   "outputs": [
    {
     "name": "stdout",
     "output_type": "stream",
     "text": [
      "Set événement 1 : {'Bob', 'Alice', 'Charlie'}\n",
      "Set événement 2 : {'Bob', 'Eve', 'David'}\n",
      "Uniques à l'événement 1 : {'Charlie', 'Alice'}\n",
      "Commun aux deux : {'Bob'}\n",
      "Frank est unique ? True\n"
     ]
    }
   ],
   "source": [
    "event1 = ['Alice', 'Bob', 'Charlie', 'Alice']\n",
    "event2 = ['Bob', 'David', 'Eve']\n",
    "\n",
    "# 1. Créer des sets\n",
    "set1 = set(event1)\n",
    "set2 = set(event2)\n",
    "print(\"Set événement 1 :\", set1)\n",
    "print(\"Set événement 2 :\", set2)\n",
    "\n",
    "# 2. Uniques à l'événement 1\n",
    "uniques_event1= set1.difference(set2)\n",
    "print(\"Uniques à l'événement 1 :\", uniques_event1)\n",
    "\n",
    "# 3. Commun aux deux\n",
    "commun = set1.intersection(set2)\n",
    "print(\"Commun aux deux :\", commun)\n",
    "\n",
    "# 4. Ajouter et vérifier\n",
    "set1.add('Frank')\n",
    "print(\"Frank est unique ?\", 'Frank' not in set2)"
   ]
  },
  {
   "cell_type": "raw",
   "id": "ed86e10c-83a4-40bb-88cd-bff33202287e",
   "metadata": {},
   "source": [
    "tuple"
   ]
  },
  {
   "cell_type": "markdown",
   "id": "3a9e449a-97d3-40a1-9a9a-c1381e4104c9",
   "metadata": {},
   "source": [
    "Explications :\n",
    "\n",
    "Les tuples sont des collections ordonnées et immuables, idéales pour :\n",
    "\n",
    "Stocker des données fixes (ex. : coordonnées géographiques).\n",
    "\n",
    "Utiliser comme clés dans des dictionnaires (contrairement aux listes).\n",
    "\n",
    "Garantir l’intégrité des données.\n",
    "\n",
    "Bonnes pratiques :\n",
    "\n",
    "Utilise des tuples pour des données qui ne doivent pas changer.\n",
    "\n",
    "Combine des tuples avec des dictionnaires pour des clés complexes (ex. : paires ville-destination).\n",
    "\n",
    "Évite les tuples pour des données fréquemment modifiées (préfère les listes)."
   ]
  },
  {
   "cell_type": "code",
   "execution_count": 9,
   "id": "5c7286d2-ab3a-4b0e-bab7-b6c6cbe68dca",
   "metadata": {},
   "outputs": [
    {
     "name": "stdout",
     "output_type": "stream",
     "text": [
      "Paris: latitude 48.8566, longitude 2.3522\n",
      "Tokyo: latitude 35.6762, longitude 139.6503\n",
      "Distance Paris-Tokyo : 9700\n"
     ]
    }
   ],
   "source": [
    "villes = [('Paris', (48.8566, 2.3522)), ('Tokyo', (35.6762, 139.6503))]\n",
    "\n",
    "# Accéder aux coordonnées\n",
    "for ville, (lat, lon) in villes:\n",
    "    print(f\"{ville}: latitude {lat}, longitude {lon}\")\n",
    "\n",
    "# Utiliser un tuple comme clé de dictionnaire\n",
    "distances = {('Paris', 'Tokyo'): 9700}\n",
    "print(\"Distance Paris-Tokyo :\", distances[('Paris', 'Tokyo')])  # 9700 km"
   ]
  },
  {
   "cell_type": "code",
   "execution_count": 11,
   "id": "91e3bd84-0569-4043-a117-4cef0990c405",
   "metadata": {},
   "outputs": [
    {
     "name": "stdout",
     "output_type": "stream",
     "text": [
      "Points uniques : {(3.2, 4.1), (1.5, 2.3)}\n",
      "Occurrences : {(1.5, 2.3): 2, (3.2, 4.1): 1}\n",
      "Après ajout : [(1.5, 2.3), (1.5, 2.3), (3.2, 4.1), (5.0, 6.0)]\n"
     ]
    }
   ],
   "source": [
    "points = [(1.5, 2.3), (1.5, 2.3), (3.2, 4.1)]\n",
    "\n",
    "# 1. Points uniques\n",
    "points_uniques = set(points)\n",
    "print(\"Points uniques :\", points_uniques)\n",
    "\n",
    "# 2. Compter les occurrences\n",
    "compteur_points = {}\n",
    "for point in points:\n",
    "    compteur_points[point] = compteur_points.get(point, 0) + 1\n",
    "print(\"Occurrences :\", compteur_points)\n",
    "\n",
    "# 3. Ajouter un point\n",
    "points.append((5.0, 6.0))\n",
    "print(\"Après ajout :\", points)"
   ]
  },
  {
   "cell_type": "raw",
   "id": "4ee0b557-22c9-44fc-a937-e89c3907185f",
   "metadata": {},
   "source": [
    "Applications : "
   ]
  },
  {
   "cell_type": "code",
   "execution_count": 51,
   "id": "1f80a290-b36f-4865-9bdf-e2a07ef2e42c",
   "metadata": {},
   "outputs": [],
   "source": [
    "def analyse_ventes(liste_ventes):\n",
    "    total_cat = {}\n",
    "    prod_cat={}\n",
    "    for produit, categorie, montant in liste_ventes:\n",
    "        produit = produit.lower()\n",
    "        categorie = categorie.lower()  # uniformiser\n",
    "        total_cat[categorie] = total_cat.get(categorie, 0) + montant\n",
    "        prod_cat[categorie]=prod_cat.append((produit,montant))\n",
    "        # tries les categories par ordre decroissant du montant total\n",
    "        categories_triées = sorted(total_cat.items(), key=lambda x: x[1], reverse=True)\n",
    "    # Étape 3 : Identifier les produits > 50 % du total par catégorie\n",
    "    produits_dominants = {}\n",
    "    for categorie, total in total_cat.items():\n",
    "        seuil = total * 0.5\n",
    "        dominants = [(produit, montant) for produit, montant in prod_cat[categorie] if montant > seuil]\n",
    "        if dominants:\n",
    "            produits_dominants[categorie] = dominants\n",
    "\n",
    "    return total_cat, categories_triées, produits_dominants\n"
   ]
  },
  {
   "cell_type": "code",
   "execution_count": 54,
   "id": "d99328ff-96ff-4aaf-a3a6-65948bcffaab",
   "metadata": {},
   "outputs": [],
   "source": [
    "# Données d'exemple\n",
    "ventes = [\n",
    "    (\"Mangue\", \"Fruit\", 75),\n",
    "    (\"Orange\", \"Fruit\", 15),\n",
    "    (\"Pomme\", \"Fruit\", 10),\n",
    "    (\"Banane\", \"Fruit\", 8),\n",
    "    (\"Ananas\", \"Fruit\", 20),\n",
    "\n",
    "    (\"HP\", \"Ordi\", 280),\n",
    "    (\"Dell\", \"Ordi\", 35),\n",
    "    (\"MacBook\", \"Ordi\", 80),\n",
    "    (\"Asus\", \"Ordi\", 40),\n",
    "    (\"Lenovo\", \"Ordi\", 25),\n",
    "\n",
    "    (\"Shampoing\", \"Hygiène\", 10),\n",
    "    (\"Savon\", \"Hygiène\", 5),\n",
    "    (\"Dentifrice\", \"Hygiène\", 7),\n",
    "    (\"Gel douche\", \"Hygiène\", 9),\n",
    "\n",
    "    (\"T-shirt\", \"Vêtements\", 20),\n",
    "    (\"Jean\", \"Vêtements\", 40),\n",
    "    (\"Pull\", \"Vêtements\", 35),\n",
    "    (\"Jupe\", \"Vêtements\", 25),\n",
    "    (\"Veste\", \"Vêtements\", 60),\n",
    "\n",
    "    (\"Cahier\", \"Papeterie\", 5),\n",
    "    (\"Stylo\", \"Papeterie\", 2),\n",
    "    (\"Feutres\", \"Papeterie\", 4),\n",
    "    (\"Classeur\", \"Papeterie\", 6),\n",
    "    (\"Agrafeuse\", \"Papeterie\", 10)\n",
    "]\n"
   ]
  },
  {
   "cell_type": "code",
   "execution_count": 55,
   "id": "38da2063-e8d3-4f1b-889a-c9b6d49eddaf",
   "metadata": {},
   "outputs": [
    {
     "name": "stdout",
     "output_type": "stream",
     "text": [
      "\n",
      "🔢 Totaux par catégorie :\n",
      "Fruit : 128 €\n",
      "Ordi : 460 €\n",
      "Hygiène : 31 €\n",
      "Vêtements : 180 €\n",
      "Papeterie : 27 €\n",
      "\n",
      "📉 Catégories triées par montant décroissant :\n",
      "Ordi : 460 €\n",
      "Vêtements : 180 €\n",
      "Fruit : 128 €\n",
      "Hygiène : 31 €\n",
      "Papeterie : 27 €\n",
      "\n",
      "📌 Produits > 50 % du total de leur catégorie :\n",
      "\n",
      "Fruit :\n",
      "  → Mangue : 75 €\n",
      "\n",
      "Ordi :\n",
      "  → Hp : 280 €\n"
     ]
    }
   ],
   "source": [
    "# Appel de la fonction\n",
    "totaux_cat, cat_triées, dominants = analyser_ventes(ventes)\n",
    "\n",
    "# Affichage\n",
    "print(\"\\n🔢 Totaux par catégorie :\")\n",
    "for cat, total in totaux_cat.items():\n",
    "    print(f\"{cat.capitalize()} : {total} €\")\n",
    "\n",
    "print(\"\\n📉 Catégories triées par montant décroissant :\")\n",
    "for cat, total in cat_triées:\n",
    "    print(f\"{cat.capitalize()} : {total} €\")\n",
    "\n",
    "print(\"\\n📌 Produits > 50 % du total de leur catégorie :\")\n",
    "for cat, produits in dominants.items():\n",
    "    print(f\"\\n{cat.capitalize()} :\")\n",
    "    for produit, montant in produits:\n",
    "        print(f\"  → {produit.capitalize()} : {montant} €\")\n"
   ]
  },
  {
   "cell_type": "code",
   "execution_count": 62,
   "id": "4f94404f-7689-416a-9be6-72cc3f54e4d5",
   "metadata": {},
   "outputs": [],
   "source": [
    "def detection_doublon(list_id):\n",
    "    id_set=set()\n",
    "    occ_id={}\n",
    "    for user in list_id:\n",
    "        string_split=user.split(\":\")[1]\n",
    "        id_set.add(string_split)\n",
    "        occ_id[string_split]=occ_id.get(string_split,0)+1\n",
    "    return id_set,occ_id\n",
    "    "
   ]
  },
  {
   "cell_type": "code",
   "execution_count": 63,
   "id": "741714f5-6936-44c7-9be8-fde12275f2e9",
   "metadata": {},
   "outputs": [],
   "source": [
    "logs = [\n",
    "    \"2025-06-01:user123:achat\",\n",
    "    \"2025-06-01:user456:visite\",\n",
    "    \"2025-06-02:user123:achat\",\n",
    "    \"2025-06-02:user789:clic\",\n",
    "    \"2025-06-03:user456:achat\"\n",
    "]"
   ]
  },
  {
   "cell_type": "code",
   "execution_count": 64,
   "id": "bcd38141-d5e5-4e58-b5a8-ce43754000bd",
   "metadata": {},
   "outputs": [],
   "source": [
    "list_set, nb_occ=detection_doublon(logs)"
   ]
  },
  {
   "cell_type": "code",
   "execution_count": 65,
   "id": "9d4c72e3-ee87-4ffd-8b29-47d39eb19736",
   "metadata": {},
   "outputs": [
    {
     "data": {
      "text/plain": [
       "{'user123', 'user456', 'user789'}"
      ]
     },
     "execution_count": 65,
     "metadata": {},
     "output_type": "execute_result"
    }
   ],
   "source": [
    "list_set"
   ]
  },
  {
   "cell_type": "code",
   "execution_count": 66,
   "id": "1553dcca-cf1a-42e8-9a79-6f89f7c23295",
   "metadata": {},
   "outputs": [
    {
     "data": {
      "text/plain": [
       "{'user123': 2, 'user456': 2, 'user789': 1}"
      ]
     },
     "execution_count": 66,
     "metadata": {},
     "output_type": "execute_result"
    }
   ],
   "source": [
    "nb_occ"
   ]
  },
  {
   "cell_type": "code",
   "execution_count": 1,
   "id": "a0ba3983-9739-4825-afa3-9ce921905284",
   "metadata": {},
   "outputs": [],
   "source": [
    "temps=[(\"2023-01-01\", 9.2),\n",
    "(\"2023-01-02\", -1.8),\n",
    "(\"2023-01-03\", 12.4),\n",
    "(\"2023-01-04\", 5.6),\n",
    "(\"2023-01-05\", 7.1),\n",
    "(\"2023-01-06\", 0.3),\n",
    "(\"2023-01-07\", 10.8),\n",
    "(\"2023-01-08\", -2.5),\n",
    "(\"2023-01-09\", 11.9),\n",
    "(\"2023-01-10\", 4.2),\n",
    "(\"2023-01-11\", 8.6),\n",
    "(\"2023-01-12\", -0.9),\n",
    "(\"2023-01-13\", 9.7),\n",
    "(\"2023-01-14\", 6.3),\n",
    "(\"2023-01-15\", 3.1),\n",
    "(\"2023-01-16\", 8.9),\n",
    "(\"2023-01-17\", -3.7),\n",
    "(\"2023-01-18\", 13.2),\n",
    "(\"2023-01-19\", 5.8),\n",
    "(\"2023-01-20\", 1.4),\n",
    "(\"2023-01-21\", 10.5),\n",
    "(\"2023-01-22\", 4.7),\n",
    "(\"2023-01-23\", 7.9),\n",
    "(\"2023-01-24\", -2.6),\n",
    "(\"2023-01-25\", 9.1),\n",
    "(\"2023-01-26\", 3.3),\n",
    "(\"2023-01-27\", 6.8),\n",
    "(\"2023-01-28\", -0.2),\n",
    "(\"2023-01-29\", 12.7),\n",
    "(\"2023-01-30\", 4.1),\n",
    "(\"2023-01-31\", 8.3)]"
   ]
  },
  {
   "cell_type": "code",
   "execution_count": 3,
   "id": "f765003a-b459-46f2-9726-27adc94cfc23",
   "metadata": {},
   "outputs": [
    {
     "data": {
      "text/plain": [
       "[('2023-01-01', 9.2),\n",
       " ('2023-01-02', -1.8),\n",
       " ('2023-01-03', 12.4),\n",
       " ('2023-01-04', 5.6),\n",
       " ('2023-01-05', 7.1),\n",
       " ('2023-01-06', 0.3),\n",
       " ('2023-01-07', 10.8),\n",
       " ('2023-01-08', -2.5),\n",
       " ('2023-01-09', 11.9),\n",
       " ('2023-01-10', 4.2),\n",
       " ('2023-01-11', 8.6),\n",
       " ('2023-01-12', -0.9),\n",
       " ('2023-01-13', 9.7),\n",
       " ('2023-01-14', 6.3),\n",
       " ('2023-01-15', 3.1),\n",
       " ('2023-01-16', 8.9),\n",
       " ('2023-01-17', -3.7),\n",
       " ('2023-01-18', 13.2),\n",
       " ('2023-01-19', 5.8),\n",
       " ('2023-01-20', 1.4),\n",
       " ('2023-01-21', 10.5),\n",
       " ('2023-01-22', 4.7),\n",
       " ('2023-01-23', 7.9),\n",
       " ('2023-01-24', -2.6),\n",
       " ('2023-01-25', 9.1),\n",
       " ('2023-01-26', 3.3),\n",
       " ('2023-01-27', 6.8),\n",
       " ('2023-01-28', -0.2),\n",
       " ('2023-01-29', 12.7),\n",
       " ('2023-01-30', 4.1),\n",
       " ('2023-01-31', 8.3)]"
      ]
     },
     "execution_count": 3,
     "metadata": {},
     "output_type": "execute_result"
    }
   ],
   "source": [
    "temps"
   ]
  },
  {
   "cell_type": "code",
   "execution_count": 47,
   "id": "74970dd7-5412-4595-b87e-30b4b8cc6fc3",
   "metadata": {},
   "outputs": [
    {
     "name": "stdout",
     "output_type": "stream",
     "text": [
      "📊 Nombre total de jours : 31\n",
      "\n",
      "📅 Températures hebdomadaires :\n",
      "Semaine 1 ➤ Total : 43.6°, Moyenne : 6.23°\n",
      "Semaine 2 ➤ Total : 37.3°, Moyenne : 5.33°\n",
      "Semaine 3 ➤ Total : 39.2°, Moyenne : 5.6°\n",
      "Semaine 4 ➤ Total : 29.0°, Moyenne : 4.14°\n",
      "Semaine 5 ➤ Total : 25.1°, Moyenne : 8.37°\n"
     ]
    }
   ],
   "source": [
    "temp_semaine = []\n",
    "temperature = []\n",
    "\n",
    "\n",
    "# Extraire uniquement les températures\n",
    "for date, temp in temps:\n",
    "    temperature.append(temp)\n",
    "\n",
    "print(f\"📊 Nombre total de jours : {len(temperature)}\\n\")\n",
    "\n",
    "# Calcul des totaux et moyennes par semaine\n",
    "for i in range(0, len(temperature), 7):\n",
    "    semaine_num = i // 7 + 1\n",
    "    semaine_data = temperature[i:i+7]\n",
    "    total = sum(semaine_data)\n",
    "    moyenne = total / len(semaine_data)\n",
    "    temp_semaine.append((f\"Semaine {semaine_num}\", total, round(moyenne, 2)))\n",
    "\n",
    "# Affichage\n",
    "print(\"📅 Températures hebdomadaires :\")\n",
    "for semaine, total, moyenne in temp_semaine:\n",
    "    print(f\"{semaine} ➤ Total : {total}°, Moyenne : {moyenne}°\")\n"
   ]
  },
  {
   "cell_type": "code",
   "execution_count": 50,
   "id": "d73e0d9b-6c98-43f2-ad20-ea7df619c092",
   "metadata": {},
   "outputs": [
    {
     "name": "stdout",
     "output_type": "stream",
     "text": [
      "📅 Semaines triées par température moyenne (décroissant) :\n",
      "\n",
      "🗓️ Semaine 52 (2022) ➤ Moyenne : 9.2° ➤ Jours : [9.2]\n",
      "🗓️ Semaine 5 (2023) ➤ Moyenne : 6.2° ➤ Jours : [4.1, 8.3]\n",
      "🗓️ Semaine 2 (2023) ➤ Moyenne : 6.13° ➤ Jours : [11.9, 4.2, 8.6, -0.9, 9.7, 6.3, 3.1]\n",
      "🗓️ Semaine 3 (2023) ➤ Moyenne : 5.83° ➤ Jours : [8.9, -3.7, 13.2, 5.8, 1.4, 10.5, 4.7]\n",
      "🗓️ Semaine 4 (2023) ➤ Moyenne : 5.29° ➤ Jours : [7.9, -2.6, 9.1, 3.3, 6.8, -0.2, 12.7]\n",
      "🗓️ Semaine 1 (2023) ➤ Moyenne : 4.56° ➤ Jours : [-1.8, 12.4, 5.6, 7.1, 0.3, 10.8, -2.5]\n"
     ]
    }
   ],
   "source": [
    "from datetime import datetime\n",
    "from collections import defaultdict\n",
    "\n",
    "\n",
    "\n",
    "# Dictionnaire : { (année, semaine) : [températures...] }\n",
    "semaine_data = defaultdict(list)\n",
    "\n",
    "for date_str, temp in temps:\n",
    "    date_obj = datetime.strptime(date_str, \"%Y-%m-%d\")\n",
    "    annee, semaine_num, _ = date_obj.isocalendar()\n",
    "    semaine_data[(annee, semaine_num)].append(temp)\n",
    "\n",
    "# Calcul des moyennes\n",
    "resultats = []\n",
    "for (annee, semaine), valeurs in semaine_data.items():\n",
    "    moyenne = sum(valeurs) / len(valeurs)\n",
    "    resultats.append((annee, semaine, valeurs, round(moyenne, 2)))\n",
    "\n",
    "# Tri par moyenne décroissante\n",
    "resultats_trie = sorted(resultats, key=lambda x: x[3], reverse=True)\n",
    "\n",
    "# Affichage\n",
    "print(\"📅 Semaines triées par température moyenne (décroissant) :\\n\")\n",
    "for annee, semaine, valeurs, moyenne in resultats_trie:\n",
    "    print(f\"🗓️ Semaine {semaine} ({annee}) ➤ Moyenne : {moyenne}° ➤ Jours : {valeurs}\")\n"
   ]
  },
  {
   "cell_type": "markdown",
   "id": "3fdf8bdb-880d-47a7-af9f-7dfb1adfb055",
   "metadata": {},
   "source": [
    "4. Intersection de plusieurs datasets"
   ]
  },
  {
   "cell_type": "code",
   "execution_count": 94,
   "id": "2749f9b4-4b89-44fd-ae58-8e257d608b32",
   "metadata": {},
   "outputs": [],
   "source": [
    "# Listes de clients par campagne (identifiants fictifs)\n",
    "campagne_A = [\n",
    "    \"client001\", \"client002\", \"client003\", \"client004\",\n",
    "    \"client005\", \"client006\", \"client007\", \"client008\"\n",
    "]\n",
    "\n",
    "campagne_B = [\n",
    "    \"client005\", \"client006\", \"client009\", \"client010\",\n",
    "    \"client011\", \"client012\", \"client013\", \"client014\"\n",
    "]\n",
    "\n",
    "campagne_C = [\n",
    "    \"client002\", \"client010\", \"client012\", \"client015\",\n",
    "    \"client016\", \"client017\", \"client006\", \"client018\"\n",
    "]\n"
   ]
  },
  {
   "cell_type": "markdown",
   "id": "f4155c49-b750-4b51-97a9-7ef0f84b8cbd",
   "metadata": {},
   "source": [
    "afficher tous les clients"
   ]
  },
  {
   "cell_type": "code",
   "execution_count": 95,
   "id": "bfafa796-1c78-419e-b484-b8b2be5fe013",
   "metadata": {},
   "outputs": [],
   "source": [
    "list_client=set(campagne_A).union(set(campagne_B)).union(set(campagne_C))"
   ]
  },
  {
   "cell_type": "code",
   "execution_count": 96,
   "id": "95f6e33f-d9d8-407e-9214-d4e646aa4583",
   "metadata": {},
   "outputs": [
    {
     "data": {
      "text/plain": [
       "{'client001',\n",
       " 'client002',\n",
       " 'client003',\n",
       " 'client004',\n",
       " 'client005',\n",
       " 'client006',\n",
       " 'client007',\n",
       " 'client008',\n",
       " 'client009',\n",
       " 'client010',\n",
       " 'client011',\n",
       " 'client012',\n",
       " 'client013',\n",
       " 'client014',\n",
       " 'client015',\n",
       " 'client016',\n",
       " 'client017',\n",
       " 'client018'}"
      ]
     },
     "execution_count": 96,
     "metadata": {},
     "output_type": "execute_result"
    }
   ],
   "source": [
    "list_client"
   ]
  },
  {
   "cell_type": "markdown",
   "id": "bea7b287-abb8-48f7-b674-df4a3f138b0c",
   "metadata": {},
   "source": [
    "Trouve les clients ayant participé à toutes les campagnes."
   ]
  },
  {
   "cell_type": "code",
   "execution_count": 98,
   "id": "fe667358-bcb9-4c2c-b959-8f18693601db",
   "metadata": {},
   "outputs": [],
   "source": [
    "setA=set(campagne_A)\n",
    "setB=set(campagne_B)\n",
    "setC=set(campagne_C)"
   ]
  },
  {
   "cell_type": "code",
   "execution_count": 99,
   "id": "cf6cebff-91b3-4c6d-b187-ad1899ae92a4",
   "metadata": {},
   "outputs": [],
   "source": [
    "client_tous_campagn=setA.intersection(setB,setC)"
   ]
  },
  {
   "cell_type": "code",
   "execution_count": 100,
   "id": "c5041ecc-ad7d-4357-8bb6-aad4687f8a0b",
   "metadata": {},
   "outputs": [
    {
     "data": {
      "text/plain": [
       "{'client006'}"
      ]
     },
     "execution_count": 100,
     "metadata": {},
     "output_type": "execute_result"
    }
   ],
   "source": [
    "client_tous_campagn"
   ]
  },
  {
   "cell_type": "code",
   "execution_count": 109,
   "id": "7f15a195-d5e1-43bd-938b-be545e2c2513",
   "metadata": {},
   "outputs": [],
   "source": [
    "client_2_campagn=setA.intersection(setB) | setB.intersection(setC) | setA.intersection(setC)"
   ]
  },
  {
   "cell_type": "code",
   "execution_count": 110,
   "id": "dda19b91-6027-441a-98a5-892b8d013b9a",
   "metadata": {},
   "outputs": [
    {
     "data": {
      "text/plain": [
       "{'client002', 'client005', 'client006', 'client010', 'client012'}"
      ]
     },
     "execution_count": 110,
     "metadata": {},
     "output_type": "execute_result"
    }
   ],
   "source": [
    "client_2_campagn"
   ]
  },
  {
   "cell_type": "markdown",
   "id": "4c38766a-534d-4942-8a5c-0c10d936915c",
   "metadata": {},
   "source": [
    "Clients uniques à une seule campagne"
   ]
  },
  {
   "cell_type": "code",
   "execution_count": 111,
   "id": "1374a353-500f-48d2-a8ed-876da364b2ec",
   "metadata": {},
   "outputs": [],
   "source": [
    "uniques_A = setA - (setB | setC)\n",
    "uniques_B = setB - (setA | setC)\n",
    "uniques_C = setC - (setA | setB)"
   ]
  },
  {
   "cell_type": "code",
   "execution_count": 112,
   "id": "0862d987-9b08-481b-94d3-828f8a893c7a",
   "metadata": {},
   "outputs": [
    {
     "data": {
      "text/plain": [
       "{'client001', 'client003', 'client004', 'client007', 'client008'}"
      ]
     },
     "execution_count": 112,
     "metadata": {},
     "output_type": "execute_result"
    }
   ],
   "source": [
    "uniques_A"
   ]
  },
  {
   "cell_type": "code",
   "execution_count": 113,
   "id": "ad676419-96ea-4e21-b5dd-773731c36e0b",
   "metadata": {},
   "outputs": [
    {
     "data": {
      "text/plain": [
       "{'client009', 'client011', 'client013', 'client014'}"
      ]
     },
     "execution_count": 113,
     "metadata": {},
     "output_type": "execute_result"
    }
   ],
   "source": [
    "uniques_B"
   ]
  },
  {
   "cell_type": "code",
   "execution_count": 114,
   "id": "66095391-63fe-42b5-b0bd-d3530697214b",
   "metadata": {},
   "outputs": [
    {
     "data": {
      "text/plain": [
       "{'client015', 'client016', 'client017', 'client018'}"
      ]
     },
     "execution_count": 114,
     "metadata": {},
     "output_type": "execute_result"
    }
   ],
   "source": [
    "uniques_C"
   ]
  },
  {
   "cell_type": "markdown",
   "id": "65d2093e-3867-4b4e-ae85-6dc90154c65c",
   "metadata": {},
   "source": [
    "Exos 5. Agrégation hiérarchique avec parsing"
   ]
  },
  {
   "cell_type": "code",
   "execution_count": 167,
   "id": "e8457836-5211-46c8-af34-09a21effa5a8",
   "metadata": {},
   "outputs": [],
   "source": [
    "ventes = [\n",
    "    \"pomme:Europe:100\",\n",
    "    \"pomme:Europe:50\",\n",
    "    \"banane:Europe:50\",\n",
    "    \"pomme:Asie:200\",\n",
    "    \"orange:Europe:75\",\n",
    "    \"banane:Asie:150\"\n",
    "]"
   ]
  },
  {
   "cell_type": "code",
   "execution_count": 168,
   "id": "8b5e95d7-2851-4fad-935d-e967f6202126",
   "metadata": {},
   "outputs": [
    {
     "name": "stdout",
     "output_type": "stream",
     "text": [
      "[('pomme', 'Europe', 100), ('pomme', 'Europe', 50), ('banane', 'Europe', 50), ('pomme', 'Asie', 200), ('orange', 'Europe', 75), ('banane', 'Asie', 150)]\n"
     ]
    }
   ],
   "source": [
    "list_vente=[]\n",
    "\n",
    "for vte in ventes :\n",
    "    vte=vte.split(\":\")\n",
    "    produit,region,montant=vte\n",
    "    montant=int(montant)\n",
    "    list_vente.append((produit,region,montant))\n",
    "print(list_vente)"
   ]
  },
  {
   "cell_type": "code",
   "execution_count": 171,
   "id": "2d9c0217-6017-4a51-9934-4d5377620ba1",
   "metadata": {},
   "outputs": [],
   "source": [
    "vente = {}\n",
    "\n",
    "for prod, region, montant in list_vente:\n",
    "    if region not in vente:\n",
    "        vente[region] = {}\n",
    "    vente[region][prod] = vente[region].get(prod, 0) + montant\n"
   ]
  },
  {
   "cell_type": "code",
   "execution_count": 172,
   "id": "dbf1403c-54d8-4f63-9e25-5fc4f4bb5bb5",
   "metadata": {},
   "outputs": [
    {
     "data": {
      "text/plain": [
       "{'Europe': {'pomme': 150, 'banane': 50, 'orange': 75},\n",
       " 'Asie': {'pomme': 200, 'banane': 150}}"
      ]
     },
     "execution_count": 172,
     "metadata": {},
     "output_type": "execute_result"
    }
   ],
   "source": [
    "vente"
   ]
  },
  {
   "cell_type": "code",
   "execution_count": null,
   "id": "efc616eb-b03e-4181-8fbd-ed40640fbf4d",
   "metadata": {},
   "outputs": [],
   "source": []
  }
 ],
 "metadata": {
  "kernelspec": {
   "display_name": "Python 3 (ipykernel)",
   "language": "python",
   "name": "python3"
  },
  "language_info": {
   "codemirror_mode": {
    "name": "ipython",
    "version": 3
   },
   "file_extension": ".py",
   "mimetype": "text/x-python",
   "name": "python",
   "nbconvert_exporter": "python",
   "pygments_lexer": "ipython3",
   "version": "3.13.3"
  }
 },
 "nbformat": 4,
 "nbformat_minor": 5
}
