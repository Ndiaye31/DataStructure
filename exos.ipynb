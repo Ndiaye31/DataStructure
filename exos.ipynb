{
 "cells": [
  {
   "cell_type": "code",
   "execution_count": 32,
   "id": "e970ec14-82f1-4e79-82d4-2a5c2d6c002a",
   "metadata": {},
   "outputs": [],
   "source": [
    "ecommerce_data = [\n",
    "    {\n",
    "        \"user_id\": \"U001\", \"name\": \"Alice\", \"age\": 25, \"city\": \"Paris\",\n",
    "        \"orders\": [\n",
    "            {\"order_id\": \"O1\", \"date\": \"2024-01\", \"items\": [(\"laptop\", 999, 1), (\"mouse\", 25, 2)], \"status\": \"delivered\"},\n",
    "            {\"order_id\": \"O2\", \"date\": \"2024-02\", \"items\": [(\"keyboard\", 75, 1)], \"status\": \"pending\"},\n",
    "            {\"order_id\": \"O3\", \"date\": \"2024-03\", \"items\": [(\"monitor\", 300, 1), (\"webcam\", 50, 1)], \"status\": \"delivered\"},\n",
    "            {\"order_id\": \"O4\", \"date\": \"2024-04\", \"items\": [(\"monitor\", 300, 1), (\"pad\", 15, 1)], \"status\": \"delivered\"}\n",
    "        ]\n",
    "    },\n",
    "    {\n",
    "        \"user_id\": \"U002\", \"name\": \"Bob\", \"age\": 35, \"city\": \"Lyon\", \n",
    "        \"orders\": [\n",
    "            {\"order_id\": \"O4\", \"date\": \"2024-01\", \"items\": [(\"laptop\", 999, 1)], \"status\": \"delivered\"},\n",
    "            {\"order_id\": \"O5\", \"date\": \"2024-02\", \"items\": [(\"mouse\", 25, 1), (\"pad\", 15, 3)], \"status\": \"delivered\"}\n",
    "        ]\n",
    "    },\n",
    "    {\n",
    "        \"user_id\": \"U003\", \"name\": \"Charlie\", \"age\": 28, \"city\": \"Paris\",\n",
    "        \"orders\": [\n",
    "            {\"order_id\": \"O6\", \"date\": \"2024-01\", \"items\": [(\"keyboard\", 75, 2), (\"mouse\", 25, 1)], \"status\": \"cancelled\"},\n",
    "            {\"order_id\": \"O7\", \"date\": \"2024-03\", \"items\": [(\"laptop\", 999, 1), (\"monitor\", 300, 2)], \"status\": \"delivered\"}\n",
    "        ]\n",
    "    },\n",
    "    {\n",
    "        \"user_id\": \"U004\", \"name\": \"Diana\", \"age\": 30, \"city\": \"Paris\",\n",
    "        \"orders\": [\n",
    "            {\"order_id\": \"O8\", \"date\": \"2024-03\", \"items\": [(\"mouse\", 25, 1), (\"monitor\", 300, 1)], \"status\": \"delivered\"},\n",
    "        ]\n",
    "    },\n",
    "    {\n",
    "        \"user_id\": \"U005\", \"name\": \"Eve\", \"age\": 40, \"city\": \"Lyon\",\n",
    "        \"orders\": [\n",
    "            {\"order_id\": \"O9\", \"date\": \"2024-03\", \"items\": [(\"laptop\", 999, 1), (\"keyboard\", 75, 1)], \"status\": \"delivered\"},\n",
    "        ]\n",
    "    }\n",
    "]"
   ]
  },
  {
   "cell_type": "markdown",
   "id": "025ad1a8-3b55-4ce5-ab66-7fc127a2ec46",
   "metadata": {},
   "source": [
    "Extrayez tous les produits achetés par des utilisateurs parisiens avec quantité > 1"
   ]
  },
  {
   "cell_type": "code",
   "execution_count": 14,
   "id": "bb46eb8d-e9d4-4e23-b5c1-06b4f000d9f1",
   "metadata": {},
   "outputs": [],
   "source": [
    "prdt_user_paris = [(data['name'], item[0], item[2]) for data in ecommerce_data \n",
    "                   for order in data['orders'] for item in order['items']\n",
    "                   if data['city'] == 'Paris' and item[2] > 1 and order[\"status\"] == \"delivered\"]"
   ]
  },
  {
   "cell_type": "code",
   "execution_count": 15,
   "id": "5df669dc-e716-4c4f-bb86-c6cf6a485a3a",
   "metadata": {},
   "outputs": [
    {
     "data": {
      "text/plain": [
       "[('Alice', 'mouse', 2), ('Charlie', 'monitor', 2)]"
      ]
     },
     "execution_count": 15,
     "metadata": {},
     "output_type": "execute_result"
    }
   ],
   "source": [
    "prdt_user_paris"
   ]
  },
  {
   "cell_type": "markdown",
   "id": "bfd61c0a-10b2-4731-b94a-494126c7b6ae",
   "metadata": {},
   "source": [
    "Calculez le \"score de fidélité\" par utilisateur: nombre_commandes * 10 + total_dépensé * 0.1, mais seulement pour les utilisateurs avec au moins 2 commandes livrées."
   ]
  },
  {
   "cell_type": "code",
   "execution_count": 12,
   "id": "ce8dd6e3-fafc-4b6e-a3ba-0936619a1c82",
   "metadata": {},
   "outputs": [],
   "source": [
    "score_fide = [\n",
    "    (\n",
    "        data[\"name\"],\n",
    "        sum(1 for order in data[\"orders\"] if order[\"status\"] == \"delivered\") * 10 + sum(\n",
    "            sum(price * quantity for _, price, quantity in order[\"items\"])\n",
    "            for order in data[\"orders\"] if order[\"status\"] == \"delivered\"\n",
    "        ) * 0.1\n",
    "    )\n",
    "    for data in ecommerce_data\n",
    "    if sum(1 for order in data[\"orders\"] if order[\"status\"] == \"delivered\") >= 2\n",
    "]"
   ]
  },
  {
   "cell_type": "code",
   "execution_count": 13,
   "id": "15eb2ba0-0697-404a-86ec-e3adb42ec1a3",
   "metadata": {},
   "outputs": [
    {
     "data": {
      "text/plain": [
       "[('Alice', 201.4), ('Bob', 126.9)]"
      ]
     },
     "execution_count": 13,
     "metadata": {},
     "output_type": "execute_result"
    }
   ],
   "source": [
    "score_fide"
   ]
  },
  {
   "cell_type": "markdown",
   "id": "dc5ae6d9-d5c6-486a-82ea-e1a321c3d6de",
   "metadata": {},
   "source": [
    "Trouvez les utilisateurs qui ont commandé le même produit dans différentes commandes (détection de récurrence d'achat)."
   ]
  },
  {
   "cell_type": "code",
   "execution_count": 42,
   "id": "70751f85-95e0-4a26-8eb2-deca9d089846",
   "metadata": {},
   "outputs": [
    {
     "name": "stdout",
     "output_type": "stream",
     "text": [
      "Utilisateur Alice a acheté les produits suivants dans plusieurs commandes :\n",
      "  - monitor 2\n"
     ]
    }
   ],
   "source": [
    "users_with_recurrent = {}\n",
    "for user in ecommerce_data:\n",
    "    user_id = user[\"user_id\"]\n",
    "    name = user[\"name\"]\n",
    "    product_orders = {}  # Dictionnaire pour compter dans combien de commandes un produit apparaît\n",
    "    \n",
    "    # Parcourir les commandes de l'utilisateur\n",
    "    for order in user[\"orders\"]:  # Corrigé : user[\"orders\"] au lieu de orders\n",
    "        # Parcourir les items de chaque commande\n",
    "        for item in order[\"items\"]:\n",
    "            produit = item[0]  # Nom du produit\n",
    "            product_orders[produit] = product_orders.get(produit, 0) + 1\n",
    "    \n",
    "    # Vérifier les produits qui apparaissent dans plusieurs commandes\n",
    "    recurrent_products = [produit for produit, count in product_orders.items() if count > 1]\n",
    "    if recurrent_products:  # Si des produits sont récurrents\n",
    "        users_with_recurrent[user_id] = {\"name\": name, \"products\": recurrent_products}\n",
    "\n",
    "# Afficher les résultats\n",
    "for user_id, info in users_with_recurrent.items():\n",
    "    print(f\"Utilisateur {info['name']} a acheté les produits suivants dans plusieurs commandes :\")\n",
    "    for produit in info[\"products\"]:\n",
    "        print(f\"  - {produit} {count}\")"
   ]
  },
  {
   "cell_type": "raw",
   "id": "767ca49d-be1e-44fd-a825-6c561f522793",
   "metadata": {},
   "source": [
    "Créez une matrice user×produit avec les quantités totales achetées par chaque utilisateur pour chaque produit unique."
   ]
  },
  {
   "cell_type": "code",
   "execution_count": 27,
   "id": "2cb6f0ec-d8a8-4f36-bf18-c096a920d1d4",
   "metadata": {},
   "outputs": [
    {
     "name": "stdout",
     "output_type": "stream",
     "text": [
      "Produits : ['keyboard', 'laptop', 'monitor', 'mouse', 'pad', 'webcam']\n",
      "Alice : [1, 1, 2, 2, 1, 1]\n",
      "Bob : [0, 1, 0, 1, 3, 0]\n",
      "Charlie : [2, 1, 2, 1, 0, 0]\n"
     ]
    }
   ],
   "source": [
    "# Étape 1 : Identifier tous les produits uniques\n",
    "all_products = set()\n",
    "for user in ecommerce_data:\n",
    "    for order in user['orders']:\n",
    "        for item in order['items']:\n",
    "            all_products.add(item[0])\n",
    "all_products = sorted(list(all_products))  # Trier pour un ordre cohérent\n",
    "\n",
    "# Étape 2 : Créer la matrice\n",
    "prdt_user = []\n",
    "for user in ecommerce_data:\n",
    "    # Dictionnaire pour compter les quantités par produit pour cet utilisateur\n",
    "    quantities = {product: 0 for product in all_products}\n",
    "    for order in user['orders']:\n",
    "        for item in order['items']:\n",
    "            product, _, quantity = item\n",
    "            quantities[product] += quantity\n",
    "    # Convertir en liste alignée sur all_products\n",
    "    prdt_user.append([quantities[product] for product in all_products])\n",
    "\n",
    "# Afficher la matrice avec les noms des utilisateurs et produits\n",
    "print(\"Produits :\", all_products)\n",
    "for i, user in enumerate(ecommerce_data):\n",
    "    print(f\"{user['name']} : {prdt_user[i]}\")"
   ]
  },
  {
   "cell_type": "raw",
   "id": "ebfd1825-8b97-4de2-a213-05e59adac447",
   "metadata": {},
   "source": [
    "Partie II"
   ]
  },
  {
   "cell_type": "code",
   "execution_count": 2,
   "id": "36a9ab7d-d5fb-41a8-911a-504d688cb3cb",
   "metadata": {},
   "outputs": [],
   "source": [
    "# Dataset réseau social\n",
    "social_network = [\n",
    "    {\"user\": \"Alice\", \"posts\": [{\"content\": \"Hello world\", \"likes\": 15, \"tags\": [\"tech\", \"python\"]}, \n",
    "                                {\"content\": \"Data science rocks\", \"likes\": 23, \"tags\": [\"data\", \"ml\"]}],\n",
    "     \"following\": [\"Bob\", \"Diana\"], \"followers\": [\"Bob\", \"Charlie\", \"Eve\"]},\n",
    "    {\"user\": \"Bob\", \"posts\": [{\"content\": \"Morning coffee\", \"likes\": 8, \"tags\": [\"life\"]},\n",
    "                              {\"content\": \"Python tutorial\", \"likes\": 45, \"tags\": [\"tech\", \"python\", \"tutorial\"]}],\n",
    "     \"following\": [\"Alice\", \"Charlie\"], \"followers\": [\"Alice\", \"Frank\"]},\n",
    "    {\"user\": \"Charlie\", \"posts\": [{\"content\": \"Weekend vibes\", \"likes\": 12, \"tags\": [\"life\", \"weekend\"]}],\n",
    "     \"following\": [\"Alice\"], \"followers\": [\"Alice\", \"Bob\"]}\n",
    "]"
   ]
  },
  {
   "cell_type": "raw",
   "id": "92d0d1cc-06d4-4d25-9f91-bd8dd7dc5dda",
   "metadata": {},
   "source": [
    "À partir du dataset réseau social, créez un dictionnaire de \"mutual connections\" : {\"Alice\": [\"Bob\"], \"Bob\": [\"Alice\"], ...}"
   ]
  },
  {
   "cell_type": "raw",
   "id": "06c5b21c-e531-4c21-8d98-a59d423498a7",
   "metadata": {},
   "source": [
    "INITIALISER un dictionnaire vide mutual_connections\n",
    "\n",
    "POUR chaque utilisateur A dans social_network\n",
    "    INITIALISER une liste vide mutual_list\n",
    "    OBTENIR le nom de A (A.user)\n",
    "    OBTENIR la liste des personnes suivies par A (A.following)\n",
    "    \n",
    "    POUR chaque personne B dans A.following\n",
    "        TROUVER l’utilisateur B dans social_network\n",
    "        SI A.user est dans B.followers\n",
    "            AJOUTER B à mutual_list\n",
    "        FIN SI\n",
    "    FIN POUR\n",
    "    \n",
    "    AJOUTER l’entrée {A.user: mutual_list} à mutual_connections\n",
    "FIN POUR\n",
    "\n",
    "RETOURNER mutual_connections"
   ]
  },
  {
   "cell_type": "code",
   "execution_count": 39,
   "id": "4f99d64e-40f4-4d96-ad1a-e5d70fdae8f8",
   "metadata": {},
   "outputs": [
    {
     "name": "stdout",
     "output_type": "stream",
     "text": [
      "{'Alice': ['Bob'], 'Bob': ['Alice', 'Charlie'], 'Charlie': ['Alice']}\n"
     ]
    }
   ],
   "source": [
    "# Initialiser le dictionnaire des connexions mutuelles\n",
    "mutual_connections = {}\n",
    "\n",
    "# Parcourir chaque utilisateur A\n",
    "for user_A in social_network:\n",
    "    mutual_list = []  # Liste pour stocker les connexions mutuelles de A\n",
    "    user_A_name = user_A[\"user\"]  # Nom de l'utilisateur A\n",
    "    following = user_A[\"following\"]  # Personnes suivies par A\n",
    "    \n",
    "    # Parcourir chaque personne B suivie par A\n",
    "    for person_B in following:\n",
    "        # Trouver l'utilisateur B dans social_network\n",
    "        for user_B in social_network:\n",
    "            if user_B[\"user\"] == person_B:\n",
    "                # Vérifier si A est dans les followers de B\n",
    "                if user_A_name in user_B[\"followers\"]:\n",
    "                    mutual_list.append(person_B)\n",
    "                break  # Sortir une fois B trouvé\n",
    "    \n",
    "    # Ajouter l'entrée au dictionnaire\n",
    "    mutual_connections[user_A_name] = mutual_list\n",
    "\n",
    "# Afficher le résultat\n",
    "print(mutual_connections)"
   ]
  },
  {
   "cell_type": "raw",
   "id": "aad98b89-b2d4-41a1-8fed-d494c0c1029d",
   "metadata": {},
   "source": [
    "### **Ex 2.3 - Engagement Analysis (★★★★★)**"
   ]
  },
  {
   "cell_type": "code",
   "execution_count": 84,
   "id": "61ae05c3-7121-4136-bdd9-5159177ac09b",
   "metadata": {},
   "outputs": [
    {
     "name": "stdout",
     "output_type": "stream",
     "text": [
      "Tag: tutorial        | Taux d'engagement: 218.45%\n",
      "Tag: tech            | Taux d'engagement: 145.63%\n",
      "Tag: python          | Taux d'engagement: 145.63%\n",
      "Tag: data            | Taux d'engagement: 111.65%\n",
      "Tag: ml              | Taux d'engagement: 111.65%\n",
      "Tag: weekend         | Taux d'engagement: 58.25%\n",
      "Tag: life            | Taux d'engagement: 48.54%\n"
     ]
    }
   ],
   "source": [
    "from collections import defaultdict\n",
    "\n",
    "# Étape 1 : Extraire tous les (tag, likes)\n",
    "list_tags = []\n",
    "total_likes = 0\n",
    "total_posts = 0\n",
    "\n",
    "for user in social_network:\n",
    "    for post in user['posts']:\n",
    "        tags = post['tags']\n",
    "        likes = post['likes']\n",
    "\n",
    "        total_likes += likes\n",
    "        total_posts += 1\n",
    "\n",
    "        for tag in tags:\n",
    "            list_tags.append((tag, likes))\n",
    "\n",
    "# Étape 2 : Regrouper les likes par tag\n",
    "tag_likes = defaultdict(list)\n",
    "\n",
    "for tag, likes in list_tags:\n",
    "    tag_likes[tag].append(likes)\n",
    "\n",
    "# Étape 3 : Moyenne globale\n",
    "average_likes_all = total_likes / total_posts if total_posts else 0\n",
    "\n",
    "# Étape 4 : Calcul du taux d'engagement par tag\n",
    "engagement_by_tag = {}\n",
    "\n",
    "for tag, likes_list in tag_likes.items():\n",
    "    avg_likes_tag = sum(likes_list) / len(likes_list)\n",
    "    engagement_rate = (avg_likes_tag / average_likes_all) * 100 if average_likes_all else 0\n",
    "    engagement_by_tag[tag] = engagement_rate\n",
    "\n",
    "# Étape 5 : Affichage\n",
    "for tag, rate in sorted(engagement_by_tag.items(), key=lambda x: x[1], reverse=True):\n",
    "    print(f\"Tag: {tag:15} | Taux d'engagement: {rate:.2f}%\")\n"
   ]
  },
  {
   "cell_type": "raw",
   "id": "0463db6a-b528-4587-91a9-9313f6d3dda6",
   "metadata": {},
   "source": [
    "### **Ex 3.1 - Customer Segmentation (★★★☆☆)**\n",
    "Identifiez les clients qui ont acheté des produits en commun (intersection des achats)."
   ]
  },
  {
   "cell_type": "code",
   "execution_count": 80,
   "id": "f1fcdfd5-289f-4513-aba2-97925be20d93",
   "metadata": {},
   "outputs": [
    {
     "name": "stdout",
     "output_type": "stream",
     "text": [
      "Alice → {'monitor', 'webcam', 'laptop', 'mouse', 'pad', 'keyboard'}\n",
      "Bob → {'pad', 'laptop', 'mouse'}\n",
      "Charlie → {'monitor', 'keyboard', 'laptop', 'mouse'}\n"
     ]
    }
   ],
   "source": [
    "from collections import defaultdict\n",
    "\n",
    "customer_produit = defaultdict(set)\n",
    "\n",
    "for user in ecommerce_data:\n",
    "    customer = user['name']\n",
    "    for order in user['orders']:\n",
    "        for item, _, _ in order['items']:\n",
    "            customer_produit[customer].add(item)\n",
    "\n",
    "# Affichage :\n",
    "for customer, produits in customer_produit.items():\n",
    "    print(f\"{customer} → {produits}\")\n"
   ]
  },
  {
   "cell_type": "code",
   "execution_count": 79,
   "id": "f4ed7584-68f4-4b77-bef0-4c431950ba64",
   "metadata": {},
   "outputs": [
    {
     "name": "stdout",
     "output_type": "stream",
     "text": [
      "Clients ayant acheté des produits en commun :\n",
      " - Alice & Bob\n",
      " - Alice & Charlie\n",
      " - Bob & Charlie\n"
     ]
    }
   ],
   "source": [
    "from itertools import combinations\n",
    "\n",
    "# Étape 1 : construire client → set(produits)\n",
    "client_produits = {}\n",
    "\n",
    "for user in ecommerce_data:\n",
    "    client = user['name']\n",
    "    produits = set()\n",
    "    for order in user['orders']:\n",
    "        for item, _, _ in order['items']:\n",
    "            produits.add(item)\n",
    "    client_produits[client] = produits\n",
    "\n",
    "# Étape 2 : comparer chaque paire de clients\n",
    "clients_en_commun = []\n",
    "\n",
    "for client1, client2 in combinations(client_produits.keys(), 2):\n",
    "    produits1 = client_produits[client1]\n",
    "    produits2 = client_produits[client2]\n",
    "    if produits1 & produits2:  # intersection non vide\n",
    "        clients_en_commun.append((client1, client2))\n",
    "\n",
    "# Affichage\n",
    "print(\"Clients ayant acheté des produits en commun :\")\n",
    "for c1, c2 in clients_en_commun:\n",
    "    print(f\" - {c1} & {c2}\")\n"
   ]
  },
  {
   "cell_type": "markdown",
   "id": "a5a23340-7a19-4ea8-b3f8-e640520b854a",
   "metadata": {},
   "source": [
    "Pour chaque utilisateur, trouvez les produits achetés par des utilisateurs similaires (même ville) qu'il n'a pas encore achetés.\n"
   ]
  },
  {
   "cell_type": "code",
   "execution_count": 3,
   "id": "ede9f13b-120e-4655-bc17-a2e2a5ab2609",
   "metadata": {},
   "outputs": [
    {
     "data": {
      "text/plain": [
       "[{'user_id': 'U001',\n",
       "  'name': 'Alice',\n",
       "  'age': 25,\n",
       "  'city': 'Paris',\n",
       "  'orders': [{'order_id': 'O1',\n",
       "    'date': '2024-01',\n",
       "    'items': [('laptop', 999, 1), ('mouse', 25, 2)],\n",
       "    'status': 'delivered'},\n",
       "   {'order_id': 'O2',\n",
       "    'date': '2024-02',\n",
       "    'items': [('keyboard', 75, 1)],\n",
       "    'status': 'pending'},\n",
       "   {'order_id': 'O3',\n",
       "    'date': '2024-03',\n",
       "    'items': [('monitor', 300, 1), ('webcam', 50, 1)],\n",
       "    'status': 'delivered'},\n",
       "   {'order_id': 'O4',\n",
       "    'date': '2024-04',\n",
       "    'items': [('monitor', 300, 1), ('pad', 15, 1)],\n",
       "    'status': 'delivered'}]},\n",
       " {'user_id': 'U002',\n",
       "  'name': 'Bob',\n",
       "  'age': 35,\n",
       "  'city': 'Lyon',\n",
       "  'orders': [{'order_id': 'O4',\n",
       "    'date': '2024-01',\n",
       "    'items': [('laptop', 999, 1)],\n",
       "    'status': 'delivered'},\n",
       "   {'order_id': 'O5',\n",
       "    'date': '2024-02',\n",
       "    'items': [('mouse', 25, 1), ('pad', 15, 3)],\n",
       "    'status': 'delivered'}]},\n",
       " {'user_id': 'U003',\n",
       "  'name': 'Charlie',\n",
       "  'age': 28,\n",
       "  'city': 'Paris',\n",
       "  'orders': [{'order_id': 'O6',\n",
       "    'date': '2024-01',\n",
       "    'items': [('keyboard', 75, 2), ('mouse', 25, 1)],\n",
       "    'status': 'cancelled'},\n",
       "   {'order_id': 'O7',\n",
       "    'date': '2024-03',\n",
       "    'items': [('laptop', 999, 1), ('monitor', 300, 2)],\n",
       "    'status': 'delivered'}]}]"
      ]
     },
     "execution_count": 3,
     "metadata": {},
     "output_type": "execute_result"
    }
   ],
   "source": [
    "ecommerce_data"
   ]
  },
  {
   "cell_type": "code",
   "execution_count": 45,
   "id": "29086f71-55b9-4f9d-ba9f-ad0d07f46d93",
   "metadata": {},
   "outputs": [],
   "source": [
    "cust={}\n",
    "for user in ecommerce_data:\n",
    "    client=user['name']\n",
    "    ville=user['city']\n",
    "    produits=set()\n",
    "    for order in user['orders']:\n",
    "        for item, _, _ in order['items']:\n",
    "            produits.add(item)\n",
    "        cust[client]=produits\n",
    "        "
   ]
  },
  {
   "cell_type": "code",
   "execution_count": 46,
   "id": "624e6426-ec93-48e1-b7d9-71b53ee69167",
   "metadata": {},
   "outputs": [
    {
     "data": {
      "text/plain": [
       "{'Alice': {'keyboard', 'laptop', 'monitor', 'mouse', 'pad', 'webcam'},\n",
       " 'Bob': {'laptop', 'mouse', 'pad'},\n",
       " 'Charlie': {'keyboard', 'laptop', 'monitor', 'mouse'}}"
      ]
     },
     "execution_count": 46,
     "metadata": {},
     "output_type": "execute_result"
    }
   ],
   "source": [
    "cust"
   ]
  },
  {
   "cell_type": "code",
   "execution_count": 7,
   "id": "f65615f4-4231-4e10-b374-b0456febb715",
   "metadata": {},
   "outputs": [],
   "source": [
    "cust=[(user['name'],user['city'],item) for user in ecommerce_data for order in user['orders'] \n",
    "      for item,montant,quanity in order['items']]"
   ]
  },
  {
   "cell_type": "code",
   "execution_count": 4,
   "id": "bc19b166-5849-4ee3-9efe-963f8a8c10a6",
   "metadata": {},
   "outputs": [],
   "source": [
    "cust=set(cust)"
   ]
  },
  {
   "cell_type": "raw",
   "id": "0bfbc8c6-ff9d-4524-b632-cf247d3c7260",
   "metadata": {},
   "source": [
    "\n",
    "# Étape 1 : collecter les produits commandés par chaque utilisateur\n",
    "from collections import defaultdict\n",
    "\n",
    "produits_par_utilisateur = {}\n",
    "ville_par_utilisateur = {}\n",
    "\n",
    "for user in ecommerce_data:\n",
    "    nom = user['name']\n",
    "    ville = user['city']\n",
    "    produits = set()\n",
    "\n",
    "    for order in user['orders']:\n",
    "        for item in order['items']:\n",
    "            produit = item[0]  # on ne garde que le nom du produit\n",
    "            produits.add(produit)\n",
    "\n",
    "    produits_par_utilisateur[nom] = produits\n",
    "    ville_par_utilisateur[nom] = ville\n",
    "\n",
    "# Étape 2 : comparer les utilisateurs par ville\n",
    "resultats = set()\n",
    "noms = list(produits_par_utilisateur.keys())\n",
    "\n",
    "for i in range(len(noms)):\n",
    "    for j in range(i + 1, len(noms)):\n",
    "        nom1, nom2 = noms[i], noms[j]\n",
    "        ville1, ville2 = ville_par_utilisateur[nom1], ville_par_utilisateur[nom2]\n",
    "\n",
    "        if ville1 == ville2:\n",
    "            if produits_par_utilisateur[nom1] != produits_par_utilisateur[nom2]:\n",
    "                resultats.add((nom1, nom2))\n",
    "\n",
    "# Affichage\n",
    "for nom1, nom2 in resultats:\n",
    "    ville = ville_par_utilisateur[nom1]\n",
    "    print(f\"{nom1} et {nom2} habitent à {ville} mais n'ont pas commandé les mêmes produits.\")\n"
   ]
  },
  {
   "cell_type": "raw",
   "id": "7adebfb6-2ac0-408a-b04a-a635bfeeac76",
   "metadata": {},
   "source": [
    "\n",
    "\n",
    "# Étape 1 : Extraire les produits livrés pour chaque utilisateur\n",
    "produits_par_utilisateur = {}\n",
    "ville_par_utilisateur = {}\n",
    "\n",
    "for user in ecommerce_data:\n",
    "    nom = user['name']\n",
    "    ville = user['city']\n",
    "    produits = set()\n",
    "\n",
    "    for order in user['orders']:\n",
    "        if order['status'] == 'delivered':\n",
    "            for item in order['items']:\n",
    "                produit = item[0]\n",
    "                produits.add(produit)\n",
    "\n",
    "    produits_par_utilisateur[nom] = produits\n",
    "    ville_par_utilisateur[nom] = ville\n",
    "\n",
    "# Étape 2 : Comparer tous les clients d’une même ville\n",
    "resultats = set()\n",
    "noms = list(produits_par_utilisateur.keys())\n",
    "\n",
    "for i in range(len(noms)):\n",
    "    for j in range(i + 1, len(noms)):\n",
    "        nom1, nom2 = noms[i], noms[j]\n",
    "        ville1, ville2 = ville_par_utilisateur[nom1], ville_par_utilisateur[nom2]\n",
    "\n",
    "        if ville1 == ville2:\n",
    "            produits1 = produits_par_utilisateur[nom1]\n",
    "            produits2 = produits_par_utilisateur[nom2]\n",
    "            if produits1 != produits2:\n",
    "                resultats.add((nom1, nom2, ville1, tuple(sorted(produits1)), tuple(sorted(produits2))))\n",
    "\n",
    "# Étape 3 : Affichage détaillé\n",
    "for nom1, nom2, ville, prod1, prod2 in resultats:\n",
    "    print(f\"\\n🔸 {nom1} et {nom2} habitent à {ville} mais n'ont pas commandé les mêmes produits livrés.\")\n",
    "    print(f\"  - Produits de {nom1} : {prod1}\")\n",
    "    print(f\"  - Produits de {nom2} : {prod2}\")\n"
   ]
  },
  {
   "cell_type": "code",
   "execution_count": 38,
   "id": "b525f80a-7ea8-41b4-a9a3-e4e2fc456e31",
   "metadata": {},
   "outputs": [
    {
     "name": "stdout",
     "output_type": "stream",
     "text": [
      "{'Alice': {'monitor', 'webcam', 'mouse', 'laptop', 'pad'}, 'Bob': {'laptop', 'pad', 'mouse'}, 'Charlie': {'laptop', 'monitor'}, 'Diana': {'monitor', 'mouse'}, 'Eve': {'laptop', 'keyboard'}}\n",
      "{'Alice': 'Paris', 'Bob': 'Lyon', 'Charlie': 'Paris', 'Diana': 'Paris', 'Eve': 'Lyon'}\n",
      "\n",
      "🔎 Alice pourrait découvrir ces produits livrés dans sa ville (Paris) :\n",
      "   ✅ Aucun nouveau produit à suggérer, il/elle a déjà tout acheté !\n",
      "\n",
      "🔎 Bob pourrait découvrir ces produits livrés dans sa ville (Lyon) :\n",
      "   - keyboard (acheté par : Eve)\n",
      "\n",
      "🔎 Charlie pourrait découvrir ces produits livrés dans sa ville (Paris) :\n",
      "   - mouse (acheté par : Alice, Diana)\n",
      "   - pad (acheté par : Alice)\n",
      "   - webcam (acheté par : Alice)\n",
      "\n",
      "🔎 Diana pourrait découvrir ces produits livrés dans sa ville (Paris) :\n",
      "   - laptop (acheté par : Alice, Charlie)\n",
      "   - pad (acheté par : Alice)\n",
      "   - webcam (acheté par : Alice)\n",
      "\n",
      "🔎 Eve pourrait découvrir ces produits livrés dans sa ville (Lyon) :\n",
      "   - mouse (acheté par : Bob)\n",
      "   - pad (acheté par : Bob)\n"
     ]
    }
   ],
   "source": [
    "from collections import defaultdict\n",
    "\n",
    "# Étape 1 : construire les structures\n",
    "produits_par_utilisateur = {}\n",
    "ville_par_utilisateur = {}\n",
    "\n",
    "for user in ecommerce_data:\n",
    "    nom = user['name']\n",
    "    ville = user['city']\n",
    "    ville_par_utilisateur[nom] = ville\n",
    "\n",
    "    produits = set()\n",
    "    for order in user['orders']:\n",
    "        if order['status'] == 'delivered':\n",
    "            for item in order['items']:\n",
    "                produits.add(item[0])\n",
    "    produits_par_utilisateur[nom] = produits\n",
    "print(produits_par_utilisateur)\n",
    "print(ville_par_utilisateur)\n",
    "# Étape 2 : suggestions avec sources\n",
    "suggestions = {}\n",
    "\n",
    "for utilisateur in produits_par_utilisateur:\n",
    "    ville = ville_par_utilisateur[utilisateur]\n",
    "    produits_utilisateur = produits_par_utilisateur[utilisateur]\n",
    "\n",
    "    produits_autres = defaultdict(set)  # produit : {autres utilisateurs}\n",
    "    for autre in produits_par_utilisateur:\n",
    "        if autre != utilisateur and ville_par_utilisateur[autre] == ville:\n",
    "            for produit in produits_par_utilisateur[autre]:\n",
    "                if produit not in produits_utilisateur:\n",
    "                    produits_autres[produit].add(autre)\n",
    "\n",
    "    suggestions[utilisateur] = produits_autres\n",
    "\n",
    "# Étape 3 : affichage\n",
    "for utilisateur, produits_sources in suggestions.items():\n",
    "    ville = ville_par_utilisateur[utilisateur]\n",
    "    print(f\"\\n🔎 {utilisateur} pourrait découvrir ces produits livrés dans sa ville ({ville}) :\")\n",
    "\n",
    "    if produits_sources:\n",
    "        for produit, acheteurs in sorted(produits_sources.items()):\n",
    "            acheteurs_str = \", \".join(sorted(acheteurs))\n",
    "            print(f\"   - {produit} (acheté par : {acheteurs_str})\")\n",
    "    else:\n",
    "        print(\"   ✅ Aucun nouveau produit à suggérer, il/elle a déjà tout acheté !\")\n"
   ]
  },
  {
   "cell_type": "code",
   "execution_count": null,
   "id": "aa90bbb7-677d-471c-b981-4058b2e73739",
   "metadata": {},
   "outputs": [],
   "source": []
  }
 ],
 "metadata": {
  "kernelspec": {
   "display_name": "Python 3 (ipykernel)",
   "language": "python",
   "name": "python3"
  },
  "language_info": {
   "codemirror_mode": {
    "name": "ipython",
    "version": 3
   },
   "file_extension": ".py",
   "mimetype": "text/x-python",
   "name": "python",
   "nbconvert_exporter": "python",
   "pygments_lexer": "ipython3",
   "version": "3.13.3"
  }
 },
 "nbformat": 4,
 "nbformat_minor": 5
}
