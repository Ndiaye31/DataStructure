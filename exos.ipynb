{
 "cells": [
  {
   "cell_type": "code",
   "execution_count": 1,
   "id": "e970ec14-82f1-4e79-82d4-2a5c2d6c002a",
   "metadata": {},
   "outputs": [],
   "source": [
    "# Dataset e-commerce complet\n",
    "ecommerce_data = [\n",
    "    {\n",
    "        \"user_id\": \"U001\", \"name\": \"Alice\", \"age\": 25, \"city\": \"Paris\",\n",
    "        \"orders\": [\n",
    "            {\"order_id\": \"O1\", \"date\": \"2024-01\", \"items\": [(\"laptop\", 999, 1), (\"mouse\", 25, 2)], \"status\": \"delivered\"},\n",
    "            {\"order_id\": \"O2\", \"date\": \"2024-02\", \"items\": [(\"keyboard\", 75, 1)], \"status\": \"pending\"},\n",
    "            {\"order_id\": \"O3\", \"date\": \"2024-03\", \"items\": [(\"monitor\", 300, 1), (\"webcam\", 50, 1)], \"status\": \"delivered\"},\n",
    "            {\"order_id\": \"O4\", \"date\": \"2024-04\", \"items\": [(\"monitor\", 300, 1), (\"pad\", 15, 1)], \"status\": \"delivered\"}\n",
    "        ]\n",
    "    },\n",
    "    {\n",
    "        \"user_id\": \"U002\", \"name\": \"Bob\", \"age\": 35, \"city\": \"Lyon\", \n",
    "        \"orders\": [\n",
    "            {\"order_id\": \"O4\", \"date\": \"2024-01\", \"items\": [(\"laptop\", 999, 1)], \"status\": \"delivered\"},\n",
    "            {\"order_id\": \"O5\", \"date\": \"2024-02\", \"items\": [(\"mouse\", 25, 1), (\"pad\", 15, 3)], \"status\": \"delivered\"}\n",
    "        ]\n",
    "    },\n",
    "    {\n",
    "        \"user_id\": \"U003\", \"name\": \"Charlie\", \"age\": 28, \"city\": \"Paris\",\n",
    "        \"orders\": [\n",
    "            {\"order_id\": \"O6\", \"date\": \"2024-01\", \"items\": [(\"keyboard\", 75, 2), (\"mouse\", 25, 1)], \"status\": \"cancelled\"},\n",
    "            {\"order_id\": \"O7\", \"date\": \"2024-03\", \"items\": [(\"laptop\", 999, 1), (\"monitor\", 300, 2)], \"status\": \"delivered\"}\n",
    "        ]\n",
    "    }\n",
    "]\n",
    "\n",
    "\n"
   ]
  },
  {
   "cell_type": "markdown",
   "id": "025ad1a8-3b55-4ce5-ab66-7fc127a2ec46",
   "metadata": {},
   "source": [
    "Extrayez tous les produits achetés par des utilisateurs parisiens avec quantité > 1"
   ]
  },
  {
   "cell_type": "code",
   "execution_count": 14,
   "id": "bb46eb8d-e9d4-4e23-b5c1-06b4f000d9f1",
   "metadata": {},
   "outputs": [],
   "source": [
    "prdt_user_paris = [(data['name'], item[0], item[2]) for data in ecommerce_data \n",
    "                   for order in data['orders'] for item in order['items']\n",
    "                   if data['city'] == 'Paris' and item[2] > 1 and order[\"status\"] == \"delivered\"]"
   ]
  },
  {
   "cell_type": "code",
   "execution_count": 15,
   "id": "5df669dc-e716-4c4f-bb86-c6cf6a485a3a",
   "metadata": {},
   "outputs": [
    {
     "data": {
      "text/plain": [
       "[('Alice', 'mouse', 2), ('Charlie', 'monitor', 2)]"
      ]
     },
     "execution_count": 15,
     "metadata": {},
     "output_type": "execute_result"
    }
   ],
   "source": [
    "prdt_user_paris"
   ]
  },
  {
   "cell_type": "markdown",
   "id": "bfd61c0a-10b2-4731-b94a-494126c7b6ae",
   "metadata": {},
   "source": [
    "Calculez le \"score de fidélité\" par utilisateur: nombre_commandes * 10 + total_dépensé * 0.1, mais seulement pour les utilisateurs avec au moins 2 commandes livrées."
   ]
  },
  {
   "cell_type": "code",
   "execution_count": 12,
   "id": "ce8dd6e3-fafc-4b6e-a3ba-0936619a1c82",
   "metadata": {},
   "outputs": [],
   "source": [
    "score_fide = [\n",
    "    (\n",
    "        data[\"name\"],\n",
    "        sum(1 for order in data[\"orders\"] if order[\"status\"] == \"delivered\") * 10 + sum(\n",
    "            sum(price * quantity for _, price, quantity in order[\"items\"])\n",
    "            for order in data[\"orders\"] if order[\"status\"] == \"delivered\"\n",
    "        ) * 0.1\n",
    "    )\n",
    "    for data in ecommerce_data\n",
    "    if sum(1 for order in data[\"orders\"] if order[\"status\"] == \"delivered\") >= 2\n",
    "]"
   ]
  },
  {
   "cell_type": "code",
   "execution_count": 13,
   "id": "15eb2ba0-0697-404a-86ec-e3adb42ec1a3",
   "metadata": {},
   "outputs": [
    {
     "data": {
      "text/plain": [
       "[('Alice', 201.4), ('Bob', 126.9)]"
      ]
     },
     "execution_count": 13,
     "metadata": {},
     "output_type": "execute_result"
    }
   ],
   "source": [
    "score_fide"
   ]
  },
  {
   "cell_type": "markdown",
   "id": "dc5ae6d9-d5c6-486a-82ea-e1a321c3d6de",
   "metadata": {},
   "source": [
    "Trouvez les utilisateurs qui ont commandé le même produit dans différentes commandes (détection de récurrence d'achat)."
   ]
  },
  {
   "cell_type": "code",
   "execution_count": 42,
   "id": "70751f85-95e0-4a26-8eb2-deca9d089846",
   "metadata": {},
   "outputs": [
    {
     "name": "stdout",
     "output_type": "stream",
     "text": [
      "Utilisateur Alice a acheté les produits suivants dans plusieurs commandes :\n",
      "  - monitor 2\n"
     ]
    }
   ],
   "source": [
    "users_with_recurrent = {}\n",
    "for user in ecommerce_data:\n",
    "    user_id = user[\"user_id\"]\n",
    "    name = user[\"name\"]\n",
    "    product_orders = {}  # Dictionnaire pour compter dans combien de commandes un produit apparaît\n",
    "    \n",
    "    # Parcourir les commandes de l'utilisateur\n",
    "    for order in user[\"orders\"]:  # Corrigé : user[\"orders\"] au lieu de orders\n",
    "        # Parcourir les items de chaque commande\n",
    "        for item in order[\"items\"]:\n",
    "            produit = item[0]  # Nom du produit\n",
    "            product_orders[produit] = product_orders.get(produit, 0) + 1\n",
    "    \n",
    "    # Vérifier les produits qui apparaissent dans plusieurs commandes\n",
    "    recurrent_products = [produit for produit, count in product_orders.items() if count > 1]\n",
    "    if recurrent_products:  # Si des produits sont récurrents\n",
    "        users_with_recurrent[user_id] = {\"name\": name, \"products\": recurrent_products}\n",
    "\n",
    "# Afficher les résultats\n",
    "for user_id, info in users_with_recurrent.items():\n",
    "    print(f\"Utilisateur {info['name']} a acheté les produits suivants dans plusieurs commandes :\")\n",
    "    for produit in info[\"products\"]:\n",
    "        print(f\"  - {produit} {count}\")"
   ]
  },
  {
   "cell_type": "raw",
   "id": "767ca49d-be1e-44fd-a825-6c561f522793",
   "metadata": {},
   "source": [
    "Créez une matrice user×produit avec les quantités totales achetées par chaque utilisateur pour chaque produit unique."
   ]
  },
  {
   "cell_type": "code",
   "execution_count": 27,
   "id": "2cb6f0ec-d8a8-4f36-bf18-c096a920d1d4",
   "metadata": {},
   "outputs": [
    {
     "name": "stdout",
     "output_type": "stream",
     "text": [
      "Produits : ['keyboard', 'laptop', 'monitor', 'mouse', 'pad', 'webcam']\n",
      "Alice : [1, 1, 2, 2, 1, 1]\n",
      "Bob : [0, 1, 0, 1, 3, 0]\n",
      "Charlie : [2, 1, 2, 1, 0, 0]\n"
     ]
    }
   ],
   "source": [
    "# Étape 1 : Identifier tous les produits uniques\n",
    "all_products = set()\n",
    "for user in ecommerce_data:\n",
    "    for order in user['orders']:\n",
    "        for item in order['items']:\n",
    "            all_products.add(item[0])\n",
    "all_products = sorted(list(all_products))  # Trier pour un ordre cohérent\n",
    "\n",
    "# Étape 2 : Créer la matrice\n",
    "prdt_user = []\n",
    "for user in ecommerce_data:\n",
    "    # Dictionnaire pour compter les quantités par produit pour cet utilisateur\n",
    "    quantities = {product: 0 for product in all_products}\n",
    "    for order in user['orders']:\n",
    "        for item in order['items']:\n",
    "            product, _, quantity = item\n",
    "            quantities[product] += quantity\n",
    "    # Convertir en liste alignée sur all_products\n",
    "    prdt_user.append([quantities[product] for product in all_products])\n",
    "\n",
    "# Afficher la matrice avec les noms des utilisateurs et produits\n",
    "print(\"Produits :\", all_products)\n",
    "for i, user in enumerate(ecommerce_data):\n",
    "    print(f\"{user['name']} : {prdt_user[i]}\")"
   ]
  },
  {
   "cell_type": "raw",
   "id": "ebfd1825-8b97-4de2-a213-05e59adac447",
   "metadata": {},
   "source": [
    "Partie II"
   ]
  },
  {
   "cell_type": "code",
   "execution_count": 28,
   "id": "36a9ab7d-d5fb-41a8-911a-504d688cb3cb",
   "metadata": {},
   "outputs": [],
   "source": [
    "# Dataset réseau social\n",
    "social_network = [\n",
    "    {\"user\": \"Alice\", \"posts\": [{\"content\": \"Hello world\", \"likes\": 15, \"tags\": [\"tech\", \"python\"]}, \n",
    "                                {\"content\": \"Data science rocks\", \"likes\": 23, \"tags\": [\"data\", \"ml\"]}],\n",
    "     \"following\": [\"Bob\", \"Diana\"], \"followers\": [\"Bob\", \"Charlie\", \"Eve\"]},\n",
    "    {\"user\": \"Bob\", \"posts\": [{\"content\": \"Morning coffee\", \"likes\": 8, \"tags\": [\"life\"]},\n",
    "                              {\"content\": \"Python tutorial\", \"likes\": 45, \"tags\": [\"tech\", \"python\", \"tutorial\"]}],\n",
    "     \"following\": [\"Alice\", \"Charlie\"], \"followers\": [\"Alice\", \"Frank\"]},\n",
    "    {\"user\": \"Charlie\", \"posts\": [{\"content\": \"Weekend vibes\", \"likes\": 12, \"tags\": [\"life\", \"weekend\"]}],\n",
    "     \"following\": [\"Alice\"], \"followers\": [\"Alice\", \"Bob\"]}\n",
    "]"
   ]
  },
  {
   "cell_type": "raw",
   "id": "92d0d1cc-06d4-4d25-9f91-bd8dd7dc5dda",
   "metadata": {},
   "source": [
    "À partir du dataset réseau social, créez un dictionnaire de \"mutual connections\" : {\"Alice\": [\"Bob\"], \"Bob\": [\"Alice\"], ...}"
   ]
  },
  {
   "cell_type": "raw",
   "id": "06c5b21c-e531-4c21-8d98-a59d423498a7",
   "metadata": {},
   "source": [
    "INITIALISER un dictionnaire vide mutual_connections\n",
    "\n",
    "POUR chaque utilisateur A dans social_network\n",
    "    INITIALISER une liste vide mutual_list\n",
    "    OBTENIR le nom de A (A.user)\n",
    "    OBTENIR la liste des personnes suivies par A (A.following)\n",
    "    \n",
    "    POUR chaque personne B dans A.following\n",
    "        TROUVER l’utilisateur B dans social_network\n",
    "        SI A.user est dans B.followers\n",
    "            AJOUTER B à mutual_list\n",
    "        FIN SI\n",
    "    FIN POUR\n",
    "    \n",
    "    AJOUTER l’entrée {A.user: mutual_list} à mutual_connections\n",
    "FIN POUR\n",
    "\n",
    "RETOURNER mutual_connections"
   ]
  },
  {
   "cell_type": "code",
   "execution_count": 39,
   "id": "4f99d64e-40f4-4d96-ad1a-e5d70fdae8f8",
   "metadata": {},
   "outputs": [
    {
     "name": "stdout",
     "output_type": "stream",
     "text": [
      "{'Alice': ['Bob'], 'Bob': ['Alice', 'Charlie'], 'Charlie': ['Alice']}\n"
     ]
    }
   ],
   "source": [
    "# Initialiser le dictionnaire des connexions mutuelles\n",
    "mutual_connections = {}\n",
    "\n",
    "# Parcourir chaque utilisateur A\n",
    "for user_A in social_network:\n",
    "    mutual_list = []  # Liste pour stocker les connexions mutuelles de A\n",
    "    user_A_name = user_A[\"user\"]  # Nom de l'utilisateur A\n",
    "    following = user_A[\"following\"]  # Personnes suivies par A\n",
    "    \n",
    "    # Parcourir chaque personne B suivie par A\n",
    "    for person_B in following:\n",
    "        # Trouver l'utilisateur B dans social_network\n",
    "        for user_B in social_network:\n",
    "            if user_B[\"user\"] == person_B:\n",
    "                # Vérifier si A est dans les followers de B\n",
    "                if user_A_name in user_B[\"followers\"]:\n",
    "                    mutual_list.append(person_B)\n",
    "                break  # Sortir une fois B trouvé\n",
    "    \n",
    "    # Ajouter l'entrée au dictionnaire\n",
    "    mutual_connections[user_A_name] = mutual_list\n",
    "\n",
    "# Afficher le résultat\n",
    "print(mutual_connections)"
   ]
  },
  {
   "cell_type": "code",
   "execution_count": null,
   "id": "edc0f578-1383-4d9b-a2b8-ef6a77a311d3",
   "metadata": {},
   "outputs": [],
   "source": []
  }
 ],
 "metadata": {
  "kernelspec": {
   "display_name": "Python 3 (ipykernel)",
   "language": "python",
   "name": "python3"
  },
  "language_info": {
   "codemirror_mode": {
    "name": "ipython",
    "version": 3
   },
   "file_extension": ".py",
   "mimetype": "text/x-python",
   "name": "python",
   "nbconvert_exporter": "python",
   "pygments_lexer": "ipython3",
   "version": "3.13.3"
  }
 },
 "nbformat": 4,
 "nbformat_minor": 5
}
